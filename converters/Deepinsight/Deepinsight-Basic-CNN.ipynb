{
 "cells": [
  {
   "cell_type": "markdown",
   "metadata": {
    "id": "dK2JBCmDs60y"
   },
   "source": [
    "# **Imports**"
   ]
  },
  {
   "cell_type": "code",
   "execution_count": null,
   "metadata": {},
   "outputs": [],
   "source": [
    "# If using google colab\n",
    "# Run the following codes\n",
    "\n",
    "# Mount google drive\n",
    "#from google.colab import drive\n",
    "#drive.mount('/content/drive')\n",
    "#!pip install -r \"/content/drive/MyDrive/~/requirements.txt\" # Replace with the path to your requirements.txt file\n",
    "#from google.colab.patches import cv2_imshow \n",
    "#from google.colab import drive"
   ]
  },
  {
   "cell_type": "code",
   "execution_count": 1,
   "metadata": {
    "executionInfo": {
     "elapsed": 6193,
     "status": "ok",
     "timestamp": 1734538435046,
     "user": {
      "displayName": "Leonides Neto",
      "userId": "11156147817316568610"
     },
     "user_tz": 180
    },
    "id": "uW25tV0hrvVt"
   },
   "outputs": [],
   "source": [
    "import pandas as pd\n",
    "import numpy as np\n",
    "import os\n",
    "import seaborn as sns\n",
    "import pickle\n",
    "import matplotlib.pyplot as plt\n",
    "import sklearn.metrics\n",
    "import tensorflow as tf\n",
    "\n",
    "from sklearn.metrics import accuracy_score, recall_score, precision_score, f1_score, confusion_matrix\n",
    "from collections import Counter\n",
    "from keras.models import Sequential\n",
    "from keras.layers import Dense, Dropout, Activation, Flatten, BatchNormalization, Conv2D, MaxPooling2D, UpSampling2D, Input\n",
    "from keras import optimizers\n",
    "from sklearn.model_selection import train_test_split\n",
    "from sklearn import metrics\n",
    "from sklearn.metrics import confusion_matrix"
   ]
  },
  {
   "cell_type": "markdown",
   "metadata": {
    "id": "QSTUm74eefqj"
   },
   "source": [
    "# **Helper functions**"
   ]
  },
  {
   "cell_type": "code",
   "execution_count": 2,
   "metadata": {
    "executionInfo": {
     "elapsed": 273,
     "status": "ok",
     "timestamp": 1734538470708,
     "user": {
      "displayName": "Leonides Neto",
      "userId": "11156147817316568610"
     },
     "user_tz": 180
    },
    "id": "8N-tkXYgOs7_"
   },
   "outputs": [],
   "source": [
    "# Import function\n",
    "\n",
    "def import_database(dir):\n",
    "\n",
    "  with open(dir, \"rb\") as file:\n",
    "    data = []\n",
    "    for i in range(0, 2):\n",
    "       #with open(dir, \"rb\") as file:\n",
    "        data.append(pickle.load(file))\n",
    "\n",
    "  return data[0], data[1]\n",
    "\n",
    "def onehot(y):\n",
    "\n",
    "  y_onehot = []\n",
    "\n",
    "  for i in y.to_numpy():\n",
    "    if i == 1: y_onehot.append([0, 1])\n",
    "    else: y_onehot.append([1, 0])\n",
    "\n",
    "  y_onehot = np.array(y_onehot)\n",
    "\n",
    "  return y_onehot\n",
    "\n",
    "def myconfusion_matrix(y_true, y_pred):\n",
    "  tp, tn, fp, fn = 0, 0, 0, 0\n",
    "\n",
    "  for i in range(0, len(y_true)):\n",
    "    if y_pred[i] == y_true[i]:\n",
    "      if y_pred[i] == 0:\n",
    "        tn = tn + 1\n",
    "      else:\n",
    "        tp = tp + 1\n",
    "    else:\n",
    "      if y_pred[i] == 0:\n",
    "        fn = fn + 1\n",
    "      else:\n",
    "        fp = fp + 1\n",
    "\n",
    "  return tp, tn, fp, fn\n",
    "\n",
    "# Calculates the metrics: accuracy, recall, precision, f1_score, and specificity\n",
    "def myaccuracy(y_true, y_pred):\n",
    "    tp, tn, fp, fn = myconfusion_matrix(y_true, y_pred)\n",
    "    if (tp + tn + fp + fn) == 0: return 0\n",
    "    return (tp + tn) / (tp + tn + fp + fn)\n",
    "\n",
    "def myrecall(y_true, y_pred):\n",
    "    tp, tn, fp, fn = myconfusion_matrix(y_true, y_pred)\n",
    "    if (tp + fn) == 0: return 0\n",
    "    return tp / (tp + fn)\n",
    "\n",
    "def myprecision(y_true, y_pred):\n",
    "    tp, tn, fp, fn = myconfusion_matrix(y_true, y_pred)\n",
    "    if (tp + fp) == 0: return 0\n",
    "    return tp / (tp + fp)\n",
    "\n",
    "def myf1_score(y_true, y_pred):\n",
    "    tp, tn, fp, fn = myconfusion_matrix(y_true, y_pred)\n",
    "    denom = (myprecision(y_true, y_pred) + myrecall(y_true, y_pred))\n",
    "    if denom == 0: return 0\n",
    "    return 2 * (myprecision(y_true, y_pred) * myrecall(y_true, y_pred)) / denom\n",
    "\n",
    "def myspecificity(y_true, y_pred):\n",
    "    tp, tn, fp, fn = myconfusion_matrix(y_true, y_pred)\n",
    "    if (tn + fp) == 0: return 0\n",
    "    return tn / (tn + fp)"
   ]
  },
  {
   "cell_type": "markdown",
   "metadata": {
    "id": "jNMvg2n3KChe"
   },
   "source": [
    "# **Classifying Congential Syphilis**"
   ]
  },
  {
   "cell_type": "markdown",
   "metadata": {
    "id": "O_jpS-alKChe"
   },
   "source": [
    "## Import data set"
   ]
  },
  {
   "cell_type": "code",
   "execution_count": 35,
   "metadata": {
    "executionInfo": {
     "elapsed": 257,
     "status": "ok",
     "timestamp": 1734538698866,
     "user": {
      "displayName": "Leonides Neto",
      "userId": "11156147817316568610"
     },
     "user_tz": 180
    },
    "id": "U1cklGChKChe"
   },
   "outputs": [],
   "source": [
    "dir = 'datasets/imaegs/Syphilis_tsne_34x34.pkl'\n",
    "\n",
    "X_train, X_test = import_database(dir)\n",
    "\n",
    "y_train = pd.read_csv('datasets/labels/y_train.csv', sep=';')\n",
    "y_test = pd.read_csv('datasets/labels/y_test.csv', sep=';')\n",
    "\n",
    "enc = sklearn.preprocessing.OneHotEncoder(categories='auto', sparse_output=False)\n",
    "\n",
    "y_train = enc.fit_transform(y_train)\n",
    "y_test = enc.transform(y_test)"
   ]
  },
  {
   "cell_type": "code",
   "execution_count": 36,
   "metadata": {
    "executionInfo": {
     "elapsed": 250,
     "status": "ok",
     "timestamp": 1734538701974,
     "user": {
      "displayName": "Leonides Neto",
      "userId": "11156147817316568610"
     },
     "user_tz": 180
    },
    "id": "nWmdEEaLKChe"
   },
   "outputs": [],
   "source": [
    "# Transforming in grayscale\n",
    "\n",
    "X_train = tf.image.rgb_to_grayscale(X_train)\n",
    "X_test = tf.image.rgb_to_grayscale(X_test)"
   ]
  },
  {
   "cell_type": "code",
   "execution_count": 37,
   "metadata": {
    "colab": {
     "base_uri": "https://localhost:8080/",
     "height": 534
    },
    "executionInfo": {
     "elapsed": 236,
     "status": "ok",
     "timestamp": 1734538703093,
     "user": {
      "displayName": "Leonides Neto",
      "userId": "11156147817316568610"
     },
     "user_tz": 180
    },
    "id": "xyhCKpD8yDfC",
    "outputId": "416ef0d5-9f90-4f93-b10b-2f599f805a20"
   },
   "outputs": [
    {
     "data": {
      "image/png": "[encoded data removed]",
      "text/plain": [
       "<Figure size 1000x1000 with 2 Axes>"
      ]
     },
     "metadata": {},
     "output_type": "display_data"
    }
   ],
   "source": [
    "c = 2\n",
    "\n",
    "fig, ax = plt.subplots(1, c, figsize=(10, 10))\n",
    "\n",
    "for i in range(0, c):\n",
    "    ax[i].imshow(X_train[i], cmap='gray')\n",
    "    ax[i].set_xlabel(\"Label: {}\".format(y_train[i]))\n",
    "    ax[i].set_xticks([])\n",
    "    ax[i].set_yticks([])\n",
    "\n",
    "plt.tight_layout()"
   ]
  },
  {
   "cell_type": "code",
   "execution_count": 38,
   "metadata": {
    "colab": {
     "base_uri": "https://localhost:8080/",
     "height": 125
    },
    "executionInfo": {
     "elapsed": 263,
     "status": "ok",
     "timestamp": 1734538705514,
     "user": {
      "displayName": "Leonides Neto",
      "userId": "11156147817316568610"
     },
     "user_tz": 180
    },
    "id": "23Ns9AThKChe",
    "outputId": "e89f2202-6478-42f3-a932-12cbec935f30"
   },
   "outputs": [
    {
     "data": {
      "text/html": [
       "<div>\n",
       "<style scoped>\n",
       "    .dataframe tbody tr th:only-of-type {\n",
       "        vertical-align: middle;\n",
       "    }\n",
       "\n",
       "    .dataframe tbody tr th {\n",
       "        vertical-align: top;\n",
       "    }\n",
       "\n",
       "    .dataframe thead th {\n",
       "        text-align: right;\n",
       "    }\n",
       "</style>\n",
       "<table border=\"1\" class=\"dataframe\">\n",
       "  <thead>\n",
       "    <tr style=\"text-align: right;\">\n",
       "      <th></th>\n",
       "      <th>Train</th>\n",
       "      <th>Test</th>\n",
       "    </tr>\n",
       "  </thead>\n",
       "  <tbody>\n",
       "    <tr>\n",
       "      <th>x</th>\n",
       "      <td>(1321, 34, 34, 1)</td>\n",
       "      <td>(331, 34, 34, 1)</td>\n",
       "    </tr>\n",
       "    <tr>\n",
       "      <th>y</th>\n",
       "      <td>(1321, 2)</td>\n",
       "      <td>(331, 2)</td>\n",
       "    </tr>\n",
       "  </tbody>\n",
       "</table>\n",
       "</div>"
      ],
      "text/plain": [
       "               Train              Test\n",
       "x  (1321, 34, 34, 1)  (331, 34, 34, 1)\n",
       "y          (1321, 2)          (331, 2)"
      ]
     },
     "execution_count": 38,
     "metadata": {},
     "output_type": "execute_result"
    }
   ],
   "source": [
    "shapes = pd.DataFrame(\n",
    "    {\n",
    "\n",
    "      \"Train\": [X_train.shape, y_train.shape],\n",
    "      \"Test\": [X_test.shape, y_test.shape],\n",
    "    }, index=['x', 'y']\n",
    ")\n",
    "\n",
    "shapes"
   ]
  },
  {
   "cell_type": "code",
   "execution_count": 39,
   "metadata": {
    "colab": {
     "base_uri": "https://localhost:8080/"
    },
    "executionInfo": {
     "elapsed": 246,
     "status": "ok",
     "timestamp": 1734538711386,
     "user": {
      "displayName": "Leonides Neto",
      "userId": "11156147817316568610"
     },
     "user_tz": 180
    },
    "id": "dKKm65T7KChf",
    "outputId": "d857fb80-0dae-46e1-b899-fb48d035237c"
   },
   "outputs": [
    {
     "name": "stdout",
     "output_type": "stream",
     "text": [
      "Counter({np.int64(1): 661, np.int64(0): 660})\n",
      "Counter({np.int64(0): 166, np.int64(1): 165})\n"
     ]
    }
   ],
   "source": [
    "print(Counter(np.argmax(y_train, axis=1)))\n",
    "print(Counter(np.argmax(y_test, axis=1)))"
   ]
  },
  {
   "cell_type": "markdown",
   "metadata": {
    "id": "RIVeBNCPKChf"
   },
   "source": [
    "## Basic CNN - Congenital Syphilis\n"
   ]
  },
  {
   "cell_type": "code",
   "execution_count": 42,
   "metadata": {
    "executionInfo": {
     "elapsed": 283,
     "status": "ok",
     "timestamp": 1734538731738,
     "user": {
      "displayName": "Leonides Neto",
      "userId": "11156147817316568610"
     },
     "user_tz": 180
    },
    "id": "hGiCEnjRKChf"
   },
   "outputs": [],
   "source": [
    "# Set up and train model up to 200 to get the epoch with the best validation accuracy\n",
    "basic_model = Sequential([\n",
    "                    Input(X_train[0].shape),\n",
    "                    Conv2D(32, 3, 1, padding=\"same\", activation=\"relu\", data_format='channels_last'),\n",
    "                    MaxPooling2D(pool_size=2, strides=1, padding=\"same\"),\n",
    "                    Flatten(),\n",
    "                    Dense(2, activation=\"sigmoid\")\n",
    "                    ])\n",
    "\n",
    "basic_model.compile(\n",
    "    optimizer=\"Adam\",\n",
    "    loss=\"binary_crossentropy\",\n",
    "    metrics=[\"binary_accuracy\"]\n",
    ")\n",
    "\n",
    "basic_history = basic_model.fit(\n",
    "                      X_train,\n",
    "                      y_train,\n",
    "                      batch_size=256,\n",
    "                      epochs=200,\n",
    "                      shuffle=True,\n",
    "                      validation_split=0.1,\n",
    "                      verbose=0,\n",
    "                  )"
   ]
  },
  {
   "cell_type": "code",
   "execution_count": 43,
   "metadata": {
    "colab": {
     "base_uri": "https://localhost:8080/",
     "height": 472
    },
    "executionInfo": {
     "elapsed": 398,
     "status": "ok",
     "timestamp": 1734539203348,
     "user": {
      "displayName": "Leonides Neto",
      "userId": "11156147817316568610"
     },
     "user_tz": 180
    },
    "id": "XlunuJLskukO",
    "outputId": "8e9f4ef8-6f62-486d-a879-33648c5d8890"
   },
   "outputs": [
    {
     "data": {
      "text/plain": [
       "<matplotlib.legend.Legend at 0x2732f859c40>"
      ]
     },
     "execution_count": 43,
     "metadata": {},
     "output_type": "execute_result"
    },
    {
     "data": {
      "image/png": "[encoded data removed]",
      "text/plain": [
       "<Figure size 640x480 with 1 Axes>"
      ]
     },
     "metadata": {},
     "output_type": "display_data"
    }
   ],
   "source": [
    "# Plot training graph\n",
    "plt.plot(basic_history.history['binary_accuracy'], label = 'Training accuracy')\n",
    "plt.plot(basic_history.history['val_binary_accuracy'], label='Validation accuracy')\n",
    "plt.xlabel('Epoch')\n",
    "plt.ylabel('Accuracy')\n",
    "plt.ylim([0, 1])\n",
    "plt.legend(loc='lower right')"
   ]
  },
  {
   "cell_type": "code",
   "execution_count": 44,
   "metadata": {},
   "outputs": [
    {
     "data": {
      "text/plain": [
       "<matplotlib.legend.Legend at 0x27336b66d20>"
      ]
     },
     "execution_count": 44,
     "metadata": {},
     "output_type": "execute_result"
    },
    {
     "data": {
      "image/png": "[encoded data removed]",
      "text/plain": [
       "<Figure size 640x480 with 1 Axes>"
      ]
     },
     "metadata": {},
     "output_type": "display_data"
    }
   ],
   "source": [
    "# Plot loss\n",
    "plt.plot(basic_history.history['loss'], label = 'Training loss')\n",
    "plt.plot(basic_history.history['val_loss'], label='Validation loss')\n",
    "plt.xlabel('Epoch')\n",
    "plt.ylabel('Loss')\n",
    "plt.ylim([0, 1])\n",
    "plt.legend(loc='lower right')"
   ]
  },
  {
   "cell_type": "code",
   "execution_count": 45,
   "metadata": {
    "colab": {
     "base_uri": "https://localhost:8080/"
    },
    "executionInfo": {
     "elapsed": 10,
     "status": "ok",
     "timestamp": 1688573075806,
     "user": {
      "displayName": "Leonides Neto",
      "userId": "11156147817316568610"
     },
     "user_tz": 180
    },
    "id": "l6QlYNEUKChf",
    "outputId": "c806b947-695c-40c5-ff57-264973ff8e9c"
   },
   "outputs": [
    {
     "name": "stdout",
     "output_type": "stream",
     "text": [
      "\n",
      "Best epoch: 75\n"
     ]
    }
   ],
   "source": [
    "### GET BEST EPOCHS ###\n",
    "\n",
    "val_acc_per_epoch = basic_history.history['val_binary_accuracy']\n",
    "best_epoch = val_acc_per_epoch.index(max(val_acc_per_epoch)) + 1\n",
    "print('\\nBest epoch: %d' % (best_epoch))"
   ]
  },
  {
   "cell_type": "code",
   "execution_count": null,
   "metadata": {
    "colab": {
     "base_uri": "https://localhost:8080/"
    },
    "executionInfo": {
     "elapsed": 2265348,
     "status": "ok",
     "timestamp": 1688575341145,
     "user": {
      "displayName": "Leonides Neto",
      "userId": "11156147817316568610"
     },
     "user_tz": 180
    },
    "id": "yy1PFHFLKChf",
    "outputId": "7cc66924-2737-4e0f-bf7f-059180dc80af"
   },
   "outputs": [],
   "source": [
    "# Train and test 30 times to get the average of the metrics\n",
    "\n",
    "mydados_relatorio_modelo = []\n",
    "\n",
    "header_dados_relatorio_modelo = ['acc', 'recall', 'precision', 'f1_score', 'specificity']\n",
    "\n",
    "y_true = [np.argmax(x) for x in y_test]\n",
    "\n",
    "for exp in range(0, 30):\n",
    "\n",
    "    basic_model.fit(X_train, y_train, epochs=best_epoch, verbose=0)\n",
    "\n",
    "    y_pred = basic_model.predict(X_test)\n",
    "    y_pred = [np.argmax(x) for x in y_pred]\n",
    "\n",
    "    # Based on my confusion matrix\n",
    "    tp, tn, fp, fn = myconfusion_matrix(y_true, y_pred)\n",
    "\n",
    "    my_accuracy = accuracy_score(y_true, y_pred)\n",
    "    my_recall = recall_score(y_true, y_pred, average='binary', pos_label=0)\n",
    "    my_precision = precision_score(y_true, y_pred, average='binary', pos_label=0)\n",
    "    my_f1_score = f1_score(y_true, y_pred, average='binary', pos_label=0)\n",
    "    my_specificity = tp / (tp + fn)\n",
    "\n",
    "    # My confusionmatrix\n",
    "    mydados_relatorio_modelo.append([my_accuracy, my_recall, my_precision, my_f1_score, my_specificity])\n",
    "\n",
    "# Saving metrics in a datframe\n",
    "mydados_relatorio_modelo_df = pd.DataFrame(mydados_relatorio_modelo, columns=header_dados_relatorio_modelo)"
   ]
  },
  {
   "cell_type": "code",
   "execution_count": null,
   "metadata": {
    "id": "3iMwuU1fKChf"
   },
   "outputs": [],
   "source": [
    "final_report = pd.DataFrame(mydados_relatorio_modelo_df.mean(axis=0))"
   ]
  },
  {
   "cell_type": "code",
   "execution_count": null,
   "metadata": {
    "colab": {
     "base_uri": "https://localhost:8080/",
     "height": 206
    },
    "executionInfo": {
     "elapsed": 8,
     "status": "ok",
     "timestamp": 1688575341146,
     "user": {
      "displayName": "Leonides Neto",
      "userId": "11156147817316568610"
     },
     "user_tz": 180
    },
    "id": "wMak4SjQKChg",
    "outputId": "4bd6cf2d-2082-4a5c-9a04-e8d3c601c5ce"
   },
   "outputs": [
    {
     "data": {
      "text/html": [
       "\n",
       "  <div id=\"df-c20f19db-50af-480a-b442-22c8a65ec16e\">\n",
       "    <div class=\"colab-df-container\">\n",
       "      <div>\n",
       "<style scoped>\n",
       "    .dataframe tbody tr th:only-of-type {\n",
       "        vertical-align: middle;\n",
       "    }\n",
       "\n",
       "    .dataframe tbody tr th {\n",
       "        vertical-align: top;\n",
       "    }\n",
       "\n",
       "    .dataframe thead th {\n",
       "        text-align: right;\n",
       "    }\n",
       "</style>\n",
       "<table border=\"1\" class=\"dataframe\">\n",
       "  <thead>\n",
       "    <tr style=\"text-align: right;\">\n",
       "      <th></th>\n",
       "      <th>0</th>\n",
       "    </tr>\n",
       "  </thead>\n",
       "  <tbody>\n",
       "    <tr>\n",
       "      <th>acc</th>\n",
       "      <td>0.553877</td>\n",
       "    </tr>\n",
       "    <tr>\n",
       "      <th>recall</th>\n",
       "      <td>0.535341</td>\n",
       "    </tr>\n",
       "    <tr>\n",
       "      <th>precision</th>\n",
       "      <td>0.557114</td>\n",
       "    </tr>\n",
       "    <tr>\n",
       "      <th>f1_score</th>\n",
       "      <td>0.543166</td>\n",
       "    </tr>\n",
       "    <tr>\n",
       "      <th>specificity</th>\n",
       "      <td>0.572525</td>\n",
       "    </tr>\n",
       "  </tbody>\n",
       "</table>\n",
       "</div>\n",
       "      <button class=\"colab-df-convert\" onclick=\"convertToInteractive('df-c20f19db-50af-480a-b442-22c8a65ec16e')\"\n",
       "              title=\"Convert this dataframe to an interactive table.\"\n",
       "              style=\"display:none;\">\n",
       "        \n",
       "  <svg xmlns=\"http://www.w3.org/2000/svg\" height=\"24px\"viewBox=\"0 0 24 24\"\n",
       "       width=\"24px\">\n",
       "    <path d=\"M0 0h24v24H0V0z\" fill=\"none\"/>\n",
       "    <path d=\"M18.56 5.44l.94 2.06.94-2.06 2.06-.94-2.06-.94-.94-2.06-.94 2.06-2.06.94zm-11 1L8.5 8.5l.94-2.06 2.06-.94-2.06-.94L8.5 2.5l-.94 2.06-2.06.94zm10 10l.94 2.06.94-2.06 2.06-.94-2.06-.94-.94-2.06-.94 2.06-2.06.94z\"/><path d=\"M17.41 7.96l-1.37-1.37c-.4-.4-.92-.59-1.43-.59-.52 0-1.04.2-1.43.59L10.3 9.45l-7.72 7.72c-.78.78-.78 2.05 0 2.83L4 21.41c.39.39.9.59 1.41.59.51 0 1.02-.2 1.41-.59l7.78-7.78 2.81-2.81c.8-.78.8-2.07 0-2.86zM5.41 20L4 18.59l7.72-7.72 1.47 1.35L5.41 20z\"/>\n",
       "  </svg>\n",
       "      </button>\n",
       "      \n",
       "  <style>\n",
       "    .colab-df-container {\n",
       "      display:flex;\n",
       "      flex-wrap:wrap;\n",
       "      gap: 12px;\n",
       "    }\n",
       "\n",
       "    .colab-df-convert {\n",
       "      background-color: #E8F0FE;\n",
       "      border: none;\n",
       "      border-radius: 50%;\n",
       "      cursor: pointer;\n",
       "      display: none;\n",
       "      fill: #1967D2;\n",
       "      height: 32px;\n",
       "      padding: 0 0 0 0;\n",
       "      width: 32px;\n",
       "    }\n",
       "\n",
       "    .colab-df-convert:hover {\n",
       "      background-color: #E2EBFA;\n",
       "      box-shadow: 0px 1px 2px rgba(60, 64, 67, 0.3), 0px 1px 3px 1px rgba(60, 64, 67, 0.15);\n",
       "      fill: #174EA6;\n",
       "    }\n",
       "\n",
       "    [theme=dark] .colab-df-convert {\n",
       "      background-color: #3B4455;\n",
       "      fill: #D2E3FC;\n",
       "    }\n",
       "\n",
       "    [theme=dark] .colab-df-convert:hover {\n",
       "      background-color: #434B5C;\n",
       "      box-shadow: 0px 1px 3px 1px rgba(0, 0, 0, 0.15);\n",
       "      filter: drop-shadow(0px 1px 2px rgba(0, 0, 0, 0.3));\n",
       "      fill: #FFFFFF;\n",
       "    }\n",
       "  </style>\n",
       "\n",
       "      <script>\n",
       "        const buttonEl =\n",
       "          document.querySelector('#df-c20f19db-50af-480a-b442-22c8a65ec16e button.colab-df-convert');\n",
       "        buttonEl.style.display =\n",
       "          google.colab.kernel.accessAllowed ? 'block' : 'none';\n",
       "\n",
       "        async function convertToInteractive(key) {\n",
       "          const element = document.querySelector('#df-c20f19db-50af-480a-b442-22c8a65ec16e');\n",
       "          const dataTable =\n",
       "            await google.colab.kernel.invokeFunction('convertToInteractive',\n",
       "                                                     [key], {});\n",
       "          if (!dataTable) return;\n",
       "\n",
       "          const docLinkHtml = 'Like what you see? Visit the ' +\n",
       "            '<a target=\"_blank\" href=https://colab.research.google.com/notebooks/data_table.ipynb>data table notebook</a>'\n",
       "            + ' to learn more about interactive tables.';\n",
       "          element.innerHTML = '';\n",
       "          dataTable['output_type'] = 'display_data';\n",
       "          await google.colab.output.renderOutput(dataTable, element);\n",
       "          const docLink = document.createElement('div');\n",
       "          docLink.innerHTML = docLinkHtml;\n",
       "          element.appendChild(docLink);\n",
       "        }\n",
       "      </script>\n",
       "    </div>\n",
       "  </div>\n",
       "  "
      ],
      "text/plain": [
       "                    0\n",
       "acc          0.553877\n",
       "recall       0.535341\n",
       "precision    0.557114\n",
       "f1_score     0.543166\n",
       "specificity  0.572525"
      ]
     },
     "execution_count": 18,
     "metadata": {},
     "output_type": "execute_result"
    }
   ],
   "source": [
    "final_report"
   ]
  },
  {
   "cell_type": "code",
   "execution_count": 65,
   "metadata": {},
   "outputs": [
    {
     "name": "stdout",
     "output_type": "stream",
     "text": [
      "\u001b[1m11/11\u001b[0m \u001b[32m━━━━━━━━━━━━━━━━━━━━\u001b[0m\u001b[37m\u001b[0m \u001b[1m0s\u001b[0m 4ms/step \n"
     ]
    },
    {
     "data": {
      "image/png": "[encoded data removed]",
      "text/plain": [
       "<Figure size 1000x700 with 2 Axes>"
      ]
     },
     "metadata": {},
     "output_type": "display_data"
    }
   ],
   "source": [
    "# Fit the model with the best epoch and test it to get confusion matrix and misclassified images\n",
    "\n",
    "#basic_model.fit(X_train, y_train, epochs=best_epoch, verbose=0)\n",
    "\n",
    "y_pred = basic_model.predict(X_test)\n",
    "y_pred = [np.argmax(x) for x in y_pred]\n",
    "y_test = [np.argmax(x) for x in y_test]\n",
    "\n",
    "# Based on my confusion matrix\n",
    "tp, tn, fp, fn = myconfusion_matrix(y_test, y_pred)\n",
    "\n",
    "# My confusion matrix\n",
    "my_confusion_matrix = pd.DataFrame(\n",
    "    {\n",
    "        \"Negative\": [tp, fp],\n",
    "        \"Positive\": [fn, tn]\n",
    "    }, index=[\"Negative\", \"Positive\"]\n",
    ")\n",
    "\n",
    "cm = confusion_matrix(y_test, y_pred)\n",
    "\n",
    "# Plot confusion matrix\n",
    "\n",
    "plt.figure(figsize=(10, 7))\n",
    "sns.heatmap(cm, annot=True, fmt='d', cmap='viridis')\n",
    "plt.xlabel('Predicted')\n",
    "plt.ylabel('Actual')\n",
    "plt.show()"
   ]
  },
  {
   "cell_type": "markdown",
   "metadata": {
    "id": "_nY8xK18kE5P"
   },
   "source": [
    "## Saving results"
   ]
  },
  {
   "cell_type": "code",
   "execution_count": null,
   "metadata": {
    "id": "Wma6__cnkE5P"
   },
   "outputs": [],
   "source": [
    "# Save results\n",
    "\n",
    "report_dir = 'results/Deepinsight_basic_cong_syphilis_report.csv'\n",
    "final_dir = 'results/Deepinsight_basic_cong_syphilis_mean.csv'\n",
    "\n",
    "mydados_relatorio_modelo_df.to_csv(report_dir, sep=';')\n",
    "final_report.to_csv(final_dir, sep=';')\n",
    "\n",
    "# Save model\n",
    "\n",
    "dir = 'models/Deepinsight_basic_cong_syphilis.pkl'\n",
    "\n",
    "with open(dir, 'wb') as file:\n",
    "  pickle.dump(basic_model, file)"
   ]
  }
 ],
 "metadata": {
  "accelerator": "TPU",
  "colab": {
   "authorship_tag": "ABX9TyMTALw4ltrGxOXDEjVWD8N6",
   "collapsed_sections": [
    "dK2JBCmDs60y",
    "QSTUm74eefqj",
    "gtAtt1Jd0n1m"
   ],
   "gpuType": "V28",
   "mount_file_id": "1kUFvK2zXV8dVQjey5gNZ_3-ouPYR06k7",
   "provenance": []
  },
  "kernelspec": {
   "display_name": "venv310",
   "language": "python",
   "name": "python3"
  },
  "language_info": {
   "codemirror_mode": {
    "name": "ipython",
    "version": 3
   },
   "file_extension": ".py",
   "mimetype": "text/x-python",
   "name": "python",
   "nbconvert_exporter": "python",
   "pygments_lexer": "ipython3",
   "version": "3.10.0"
  }
 },
 "nbformat": 4,
 "nbformat_minor": 0
}
