{
 "cells": [
  {
   "cell_type": "markdown",
   "metadata": {
    "id": "dK2JBCmDs60y"
   },
   "source": [
    "# **Imports and Mount Drive**"
   ]
  },
  {
   "cell_type": "code",
   "execution_count": null,
   "metadata": {},
   "outputs": [],
   "source": [
    "#!git clone 'https://github.com/zhuyitan/IGTD'"
   ]
  },
  {
   "cell_type": "code",
   "execution_count": 14,
   "metadata": {
    "executionInfo": {
     "elapsed": 1968,
     "status": "ok",
     "timestamp": 1688581772390,
     "user": {
      "displayName": "Leonides Neto",
      "userId": "11156147817316568610"
     },
     "user_tz": 180
    },
    "id": "uW25tV0hrvVt"
   },
   "outputs": [],
   "source": [
    "import pandas as pd\n",
    "import numpy as np\n",
    "import os\n",
    "import matplotlib.pyplot as plt\n",
    "import Scripts.IGTD_Functions as igtd\n",
    "\n",
    "#import cv2\n",
    "#from google.colab.patches import cv2_imshow\n",
    "#from google.colab import drive"
   ]
  },
  {
   "cell_type": "code",
   "execution_count": 15,
   "metadata": {
    "executionInfo": {
     "elapsed": 5,
     "status": "ok",
     "timestamp": 1688581772391,
     "user": {
      "displayName": "Leonides Neto",
      "userId": "11156147817316568610"
     },
     "user_tz": 180
    },
    "id": "JObwYNlV_Opf"
   },
   "outputs": [],
   "source": []
  },
  {
   "cell_type": "code",
   "execution_count": 16,
   "metadata": {},
   "outputs": [
    {
     "name": "stderr",
     "output_type": "stream",
     "text": [
      "Cloning into 'IGTD'...\n"
     ]
    }
   ],
   "source": [
    "!git clone \"https://github.com/zhuyitan/IGTD\""
   ]
  },
  {
   "cell_type": "markdown",
   "metadata": {
    "id": "0UbKCTuvtQkb"
   },
   "source": [
    "# **Prep IGTD**\n"
   ]
  },
  {
   "cell_type": "code",
   "execution_count": 17,
   "metadata": {
    "id": "bnhvuT8V5Ivf"
   },
   "outputs": [],
   "source": [
    "###############################################################################################################################\n",
    "# Image Generator for Tabular Adata (IGTD)\n",
    "###############################################################################################################################\n",
    "\n",
    "# Clone git repository and browse there\n",
    "#\n",
    "#!git clone 'https://github.com/zhuyitan/IGTD'\n",
    "\n",
    "#!cd IGTD/\n",
    "\n",
    "def run_igtd(dataset, rows, cols, result_dir):\n",
    "\n",
    "    # Set parameters\n",
    "\n",
    "    norm_data = igtd.min_max_transform(dataset.values)\n",
    "    norm_data = pd.DataFrame(norm_data, columns=dataset.columns, index=dataset.index)\n",
    "\n",
    "    num_row = rows    # Number of pixel rows in image representation\n",
    "    num_col = cols    # Number of pixel columns in image representation\n",
    "    num = num_row * num_col # Number of features to be included for analysis, which is also the total number of pixels in image representation\n",
    "    save_image_size = 10 # Size of pictures (in inches) saved during the execution of IGTD algorithm.\n",
    "    max_step = 1000    # The maximum number of iterations to run the IGTD algorithm, if it does not converge.\n",
    "    val_step = 100  # The number of iterations for determining algorithm convergence. If the error reduction rate is smaller than a pre-set threshold for val_step itertions, the algorithm converges.\n",
    "    fea_dist_method = 'Euclidean'\n",
    "    image_dist_method = 'Euclidean'\n",
    "    error = 'squared'\n",
    "    switch_t=0 # the threshold to determine whether switch should happen\n",
    "    min_gain=0.00001 # if the objective function is not improved more than 'min_gain' in 'val_step' steps, the algorithm terminates.\n",
    "\n",
    "    os.makedirs(name=result_dir, exist_ok=True)\n",
    "\n",
    "    # Transform\n",
    "\n",
    "    igtd.table_to_image(norm_data, [num_row, num_col], fea_dist_method, image_dist_method, save_image_size,\n",
    "                  max_step, val_step, result_dir, error, switch_t, min_gain)\n",
    "    \n",
    "    return None"
   ]
  },
  {
   "cell_type": "markdown",
   "metadata": {
    "id": "alcQQlgXz4qS"
   },
   "source": [
    "# **Congenital Syphilis**\n"
   ]
  },
  {
   "cell_type": "code",
   "execution_count": 18,
   "metadata": {
    "id": "f7qKAjnpz_Ap"
   },
   "outputs": [],
   "source": [
    "X_train = pd.read_csv(r'datasets\\tabular\\X_train.csv', sep=';')\n",
    "X_test = pd.read_csv(r'datasets\\tabular\\X_test.csv', sep=';')"
   ]
  },
  {
   "cell_type": "code",
   "execution_count": 24,
   "metadata": {
    "id": "SG7pRemP0XXQ"
   },
   "outputs": [
    {
     "ename": "ValueError",
     "evalue": "operands could not be broadcast together with shapes (60,) (63,) ",
     "output_type": "error",
     "traceback": [
      "\u001b[1;31m---------------------------------------------------------------------------\u001b[0m",
      "\u001b[1;31mValueError\u001b[0m                                Traceback (most recent call last)",
      "Cell \u001b[1;32mIn[24], line 4\u001b[0m\n\u001b[0;32m      1\u001b[0m \u001b[38;5;66;03m# Run IGTD on Train set\u001b[39;00m\n\u001b[0;32m      3\u001b[0m result_dir \u001b[38;5;241m=\u001b[39m \u001b[38;5;124m\"\u001b[39m\u001b[38;5;124mdatasets/images/Train\u001b[39m\u001b[38;5;124m\"\u001b[39m\n\u001b[1;32m----> 4\u001b[0m \u001b[43mrun_igtd\u001b[49m\u001b[43m(\u001b[49m\u001b[43mdataset\u001b[49m\u001b[43m \u001b[49m\u001b[38;5;241;43m=\u001b[39;49m\u001b[43m \u001b[49m\u001b[43mX_train\u001b[49m\u001b[43m,\u001b[49m\u001b[43m \u001b[49m\u001b[43mrows\u001b[49m\u001b[43m \u001b[49m\u001b[38;5;241;43m=\u001b[39;49m\u001b[43m \u001b[49m\u001b[38;5;241;43m8\u001b[39;49m\u001b[43m,\u001b[49m\u001b[43m \u001b[49m\u001b[43mcols\u001b[49m\u001b[43m \u001b[49m\u001b[38;5;241;43m=\u001b[39;49m\u001b[43m \u001b[49m\u001b[38;5;241;43m8\u001b[39;49m\u001b[43m,\u001b[49m\u001b[43m \u001b[49m\u001b[43mresult_dir\u001b[49m\u001b[43m \u001b[49m\u001b[38;5;241;43m=\u001b[39;49m\u001b[43m \u001b[49m\u001b[43mresult_dir\u001b[49m\u001b[43m)\u001b[49m\n",
      "Cell \u001b[1;32mIn[17], line 36\u001b[0m, in \u001b[0;36mrun_igtd\u001b[1;34m(dataset, rows, cols, result_dir)\u001b[0m\n\u001b[0;32m     32\u001b[0m os\u001b[38;5;241m.\u001b[39mmakedirs(name\u001b[38;5;241m=\u001b[39mresult_dir, exist_ok\u001b[38;5;241m=\u001b[39m\u001b[38;5;28;01mTrue\u001b[39;00m)\n\u001b[0;32m     34\u001b[0m \u001b[38;5;66;03m# Transform\u001b[39;00m\n\u001b[1;32m---> 36\u001b[0m \u001b[43migtd\u001b[49m\u001b[38;5;241;43m.\u001b[39;49m\u001b[43mtable_to_image\u001b[49m\u001b[43m(\u001b[49m\u001b[43mnorm_data\u001b[49m\u001b[43m,\u001b[49m\u001b[43m \u001b[49m\u001b[43m[\u001b[49m\u001b[43mnum_row\u001b[49m\u001b[43m,\u001b[49m\u001b[43m \u001b[49m\u001b[43mnum_col\u001b[49m\u001b[43m]\u001b[49m\u001b[43m,\u001b[49m\u001b[43m \u001b[49m\u001b[43mfea_dist_method\u001b[49m\u001b[43m,\u001b[49m\u001b[43m \u001b[49m\u001b[43mimage_dist_method\u001b[49m\u001b[43m,\u001b[49m\u001b[43m \u001b[49m\u001b[43msave_image_size\u001b[49m\u001b[43m,\u001b[49m\n\u001b[0;32m     37\u001b[0m \u001b[43m              \u001b[49m\u001b[43mmax_step\u001b[49m\u001b[43m,\u001b[49m\u001b[43m \u001b[49m\u001b[43mval_step\u001b[49m\u001b[43m,\u001b[49m\u001b[43m \u001b[49m\u001b[43mresult_dir\u001b[49m\u001b[43m,\u001b[49m\u001b[43m \u001b[49m\u001b[43merror\u001b[49m\u001b[43m,\u001b[49m\u001b[43m \u001b[49m\u001b[43mswitch_t\u001b[49m\u001b[43m,\u001b[49m\u001b[43m \u001b[49m\u001b[43mmin_gain\u001b[49m\u001b[43m)\u001b[49m\n\u001b[0;32m     39\u001b[0m \u001b[38;5;28;01mreturn\u001b[39;00m \u001b[38;5;28;01mNone\u001b[39;00m\n",
      "File \u001b[1;32mf:\\Users\\Leo\\Documents\\Projects\\CSCNN\\Congenital-Syphilis-CNN-Classification\\converters\\IGTD\\Scripts\\IGTD_Functions.py:604\u001b[0m, in \u001b[0;36mtable_to_image\u001b[1;34m(norm_d, scale, fea_dist_method, image_dist_method, save_image_size, max_step, val_step, normDir, error, switch_t, min_gain)\u001b[0m\n\u001b[0;32m    601\u001b[0m plt\u001b[38;5;241m.\u001b[39msavefig(fname\u001b[38;5;241m=\u001b[39mnormDir \u001b[38;5;241m+\u001b[39m \u001b[38;5;124m'\u001b[39m\u001b[38;5;124m/image_ranking.png\u001b[39m\u001b[38;5;124m'\u001b[39m, bbox_inches\u001b[38;5;241m=\u001b[39m\u001b[38;5;124m'\u001b[39m\u001b[38;5;124mtight\u001b[39m\u001b[38;5;124m'\u001b[39m, pad_inches\u001b[38;5;241m=\u001b[39m\u001b[38;5;241m0\u001b[39m)\n\u001b[0;32m    602\u001b[0m plt\u001b[38;5;241m.\u001b[39mclose(fig)\n\u001b[1;32m--> 604\u001b[0m index, err, time \u001b[38;5;241m=\u001b[39m \u001b[43mIGTD\u001b[49m\u001b[43m(\u001b[49m\u001b[43msource\u001b[49m\u001b[38;5;241;43m=\u001b[39;49m\u001b[43mranking_feature\u001b[49m\u001b[43m,\u001b[49m\u001b[43m \u001b[49m\u001b[43mtarget\u001b[49m\u001b[38;5;241;43m=\u001b[39;49m\u001b[43mranking_image\u001b[49m\u001b[43m,\u001b[49m\n\u001b[0;32m    605\u001b[0m \u001b[43m    \u001b[49m\u001b[43merr_measure\u001b[49m\u001b[38;5;241;43m=\u001b[39;49m\u001b[43merror\u001b[49m\u001b[43m,\u001b[49m\u001b[43m \u001b[49m\u001b[43mmax_step\u001b[49m\u001b[38;5;241;43m=\u001b[39;49m\u001b[43mmax_step\u001b[49m\u001b[43m,\u001b[49m\u001b[43m \u001b[49m\u001b[43mswitch_t\u001b[49m\u001b[38;5;241;43m=\u001b[39;49m\u001b[43mswitch_t\u001b[49m\u001b[43m,\u001b[49m\u001b[43m \u001b[49m\u001b[43mval_step\u001b[49m\u001b[38;5;241;43m=\u001b[39;49m\u001b[43mval_step\u001b[49m\u001b[43m,\u001b[49m\u001b[43m \u001b[49m\u001b[43mmin_gain\u001b[49m\u001b[38;5;241;43m=\u001b[39;49m\u001b[43mmin_gain\u001b[49m\u001b[43m,\u001b[49m\u001b[43m \u001b[49m\u001b[43mrandom_state\u001b[49m\u001b[38;5;241;43m=\u001b[39;49m\u001b[38;5;241;43m1\u001b[39;49m\u001b[43m,\u001b[49m\n\u001b[0;32m    606\u001b[0m \u001b[43m    \u001b[49m\u001b[43msave_folder\u001b[49m\u001b[38;5;241;43m=\u001b[39;49m\u001b[43mnormDir\u001b[49m\u001b[43m \u001b[49m\u001b[38;5;241;43m+\u001b[39;49m\u001b[43m \u001b[49m\u001b[38;5;124;43m'\u001b[39;49m\u001b[38;5;124;43m/\u001b[39;49m\u001b[38;5;124;43m'\u001b[39;49m\u001b[43m \u001b[49m\u001b[38;5;241;43m+\u001b[39;49m\u001b[43m \u001b[49m\u001b[43merror\u001b[49m\u001b[43m,\u001b[49m\u001b[43m \u001b[49m\u001b[43mfile_name\u001b[49m\u001b[38;5;241;43m=\u001b[39;49m\u001b[38;5;124;43m'\u001b[39;49m\u001b[38;5;124;43m'\u001b[39;49m\u001b[43m)\u001b[49m\n\u001b[0;32m    608\u001b[0m fig \u001b[38;5;241m=\u001b[39m plt\u001b[38;5;241m.\u001b[39mfigure()\n\u001b[0;32m    609\u001b[0m plt\u001b[38;5;241m.\u001b[39mplot(time, err)\n",
      "File \u001b[1;32mf:\\Users\\Leo\\Documents\\Projects\\CSCNN\\Congenital-Syphilis-CNN-Classification\\converters\\IGTD\\Scripts\\IGTD_Functions.py:471\u001b[0m, in \u001b[0;36mIGTD\u001b[1;34m(source, target, err_measure, max_step, switch_t, val_step, min_gain, random_state, save_folder, file_name)\u001b[0m\n\u001b[0;32m    467\u001b[0m     index_record, err_record, run_time \u001b[38;5;241m=\u001b[39m IGTD_absolute_error(source\u001b[38;5;241m=\u001b[39msource,\n\u001b[0;32m    468\u001b[0m         target\u001b[38;5;241m=\u001b[39mtarget, max_step\u001b[38;5;241m=\u001b[39mmax_step, switch_t\u001b[38;5;241m=\u001b[39mswitch_t, val_step\u001b[38;5;241m=\u001b[39mval_step, min_gain\u001b[38;5;241m=\u001b[39mmin_gain,\n\u001b[0;32m    469\u001b[0m         random_state\u001b[38;5;241m=\u001b[39mrandom_state, save_folder\u001b[38;5;241m=\u001b[39msave_folder, file_name\u001b[38;5;241m=\u001b[39mfile_name)\n\u001b[0;32m    470\u001b[0m \u001b[38;5;28;01mif\u001b[39;00m err_measure \u001b[38;5;241m==\u001b[39m \u001b[38;5;124m'\u001b[39m\u001b[38;5;124msquared\u001b[39m\u001b[38;5;124m'\u001b[39m:\n\u001b[1;32m--> 471\u001b[0m     index_record, err_record, run_time \u001b[38;5;241m=\u001b[39m \u001b[43mIGTD_square_error\u001b[49m\u001b[43m(\u001b[49m\u001b[43msource\u001b[49m\u001b[38;5;241;43m=\u001b[39;49m\u001b[43msource\u001b[49m\u001b[43m,\u001b[49m\n\u001b[0;32m    472\u001b[0m \u001b[43m        \u001b[49m\u001b[43mtarget\u001b[49m\u001b[38;5;241;43m=\u001b[39;49m\u001b[43mtarget\u001b[49m\u001b[43m,\u001b[49m\u001b[43m \u001b[49m\u001b[43mmax_step\u001b[49m\u001b[38;5;241;43m=\u001b[39;49m\u001b[43mmax_step\u001b[49m\u001b[43m,\u001b[49m\u001b[43m \u001b[49m\u001b[43mswitch_t\u001b[49m\u001b[38;5;241;43m=\u001b[39;49m\u001b[43mswitch_t\u001b[49m\u001b[43m,\u001b[49m\u001b[43m \u001b[49m\u001b[43mval_step\u001b[49m\u001b[38;5;241;43m=\u001b[39;49m\u001b[43mval_step\u001b[49m\u001b[43m,\u001b[49m\u001b[43m \u001b[49m\u001b[43mmin_gain\u001b[49m\u001b[38;5;241;43m=\u001b[39;49m\u001b[43mmin_gain\u001b[49m\u001b[43m,\u001b[49m\n\u001b[0;32m    473\u001b[0m \u001b[43m        \u001b[49m\u001b[43mrandom_state\u001b[49m\u001b[38;5;241;43m=\u001b[39;49m\u001b[43mrandom_state\u001b[49m\u001b[43m,\u001b[49m\u001b[43m \u001b[49m\u001b[43msave_folder\u001b[49m\u001b[38;5;241;43m=\u001b[39;49m\u001b[43msave_folder\u001b[49m\u001b[43m,\u001b[49m\u001b[43m \u001b[49m\u001b[43mfile_name\u001b[49m\u001b[38;5;241;43m=\u001b[39;49m\u001b[43mfile_name\u001b[49m\u001b[43m)\u001b[49m\n\u001b[0;32m    475\u001b[0m \u001b[38;5;28;01mreturn\u001b[39;00m index_record, err_record, run_time\n",
      "File \u001b[1;32mf:\\Users\\Leo\\Documents\\Projects\\CSCNN\\Congenital-Syphilis-CNN-Classification\\converters\\IGTD\\Scripts\\IGTD_Functions.py:338\u001b[0m, in \u001b[0;36mIGTD_square_error\u001b[1;34m(source, target, max_step, switch_t, val_step, min_gain, random_state, save_folder, file_name)\u001b[0m\n\u001b[0;32m    335\u001b[0m err_v\u001b[38;5;241m.\u001b[39mfill(np\u001b[38;5;241m.\u001b[39mnan)\n\u001b[0;32m    336\u001b[0m \u001b[38;5;28;01mfor\u001b[39;00m i \u001b[38;5;129;01min\u001b[39;00m \u001b[38;5;28mrange\u001b[39m(num):\n\u001b[0;32m    337\u001b[0m     err_v[i] \u001b[38;5;241m=\u001b[39m np\u001b[38;5;241m.\u001b[39msum(np\u001b[38;5;241m.\u001b[39msquare(source[i, \u001b[38;5;241m0\u001b[39m:i] \u001b[38;5;241m-\u001b[39m target[i, \u001b[38;5;241m0\u001b[39m:i])) \u001b[38;5;241m+\u001b[39m \\\n\u001b[1;32m--> 338\u001b[0m                np\u001b[38;5;241m.\u001b[39msum(np\u001b[38;5;241m.\u001b[39msquare(\u001b[43msource\u001b[49m\u001b[43m[\u001b[49m\u001b[43m(\u001b[49m\u001b[43mi\u001b[49m\u001b[43m \u001b[49m\u001b[38;5;241;43m+\u001b[39;49m\u001b[43m \u001b[49m\u001b[38;5;241;43m1\u001b[39;49m\u001b[43m)\u001b[49m\u001b[43m:\u001b[49m\u001b[43m,\u001b[49m\u001b[43m \u001b[49m\u001b[43mi\u001b[49m\u001b[43m]\u001b[49m\u001b[43m \u001b[49m\u001b[38;5;241;43m-\u001b[39;49m\u001b[43m \u001b[49m\u001b[43mtarget\u001b[49m\u001b[43m[\u001b[49m\u001b[43m(\u001b[49m\u001b[43mi\u001b[49m\u001b[43m \u001b[49m\u001b[38;5;241;43m+\u001b[39;49m\u001b[43m \u001b[49m\u001b[38;5;241;43m1\u001b[39;49m\u001b[43m)\u001b[49m\u001b[43m:\u001b[49m\u001b[43m,\u001b[49m\u001b[43m \u001b[49m\u001b[43mi\u001b[49m\u001b[43m]\u001b[49m))\n\u001b[0;32m    340\u001b[0m step_record \u001b[38;5;241m=\u001b[39m \u001b[38;5;241m-\u001b[39mnp\u001b[38;5;241m.\u001b[39mones(num)\n\u001b[0;32m    341\u001b[0m err_record \u001b[38;5;241m=\u001b[39m [np\u001b[38;5;241m.\u001b[39msum(np\u001b[38;5;241m.\u001b[39msquare(source[tril_id] \u001b[38;5;241m-\u001b[39m target[tril_id]))]\n",
      "\u001b[1;31mValueError\u001b[0m: operands could not be broadcast together with shapes (60,) (63,) "
     ]
    }
   ],
   "source": [
    "# Run IGTD on Train set\n",
    "\n",
    "result_dir = \"datasets/images/Train\"\n",
    "run_igtd(dataset = X_train, rows = 8, cols = 8, result_dir = result_dir)"
   ]
  },
  {
   "cell_type": "code",
   "execution_count": 22,
   "metadata": {},
   "outputs": [
    {
     "data": {
      "text/plain": [
       "(1321, 61)"
      ]
     },
     "execution_count": 22,
     "metadata": {},
     "output_type": "execute_result"
    }
   ],
   "source": [
    "X_train.to_numpy().shape"
   ]
  },
  {
   "cell_type": "code",
   "execution_count": null,
   "metadata": {
    "id": "5_3vbQGY0YiJ"
   },
   "outputs": [],
   "source": [
    "# Run IGTD on Test set\n",
    "\n",
    "result_dir = \"datasets/images/Test\"\n",
    "run_igtd(dataset = X_test, rows = 8, cols = 8, result_dir = result_dir)"
   ]
  },
  {
   "cell_type": "markdown",
   "metadata": {
    "id": "etSzOWF4Rprn"
   },
   "source": [
    "# **Visualize**"
   ]
  },
  {
   "cell_type": "code",
   "execution_count": 24,
   "metadata": {
    "executionInfo": {
     "elapsed": 579,
     "status": "ok",
     "timestamp": 1688581778397,
     "user": {
      "displayName": "Leonides Neto",
      "userId": "11156147817316568610"
     },
     "user_tz": 180
    },
    "id": "Jh-ulPUgUNp5"
   },
   "outputs": [],
   "source": [
    "dir = 'datasets/tabular/y_train.csv'\n",
    "y_train = pd.read_csv(dir, sep=';')"
   ]
  },
  {
   "cell_type": "code",
   "execution_count": 26,
   "metadata": {
    "colab": {
     "base_uri": "https://localhost:8080/",
     "height": 514
    },
    "executionInfo": {
     "elapsed": 790,
     "status": "ok",
     "timestamp": 1688581796210,
     "user": {
      "displayName": "Leonides Neto",
      "userId": "11156147817316568610"
     },
     "user_tz": 180
    },
    "id": "aC7pFTw8OV5m",
    "outputId": "6d3660f5-bc7f-4c6b-92d6-412f8685c967"
   },
   "outputs": [
    {
     "data": {
      "image/png": "[encoded data removed]",
      "text/plain": [
       "<Figure size 1000x1000 with 2 Axes>"
      ]
     },
     "metadata": {},
     "output_type": "display_data"
    }
   ],
   "source": [
    "dir = 'datasets/Train/Results.pkl'\n",
    "\n",
    "data = []\n",
    "\n",
    "with open(dir, \"rb\") as file:\n",
    "  for i in range(0, 3):\n",
    "    data.append(pickle.load(file))\n",
    "\n",
    "data = np.moveaxis(data[1], 2, 0)\n",
    "data = np.expand_dims(X_train, 3)\n",
    "\n",
    "# Extract the two images you want to plot\n",
    "image1 = data[0]\n",
    "image2 = data[1]\n",
    "\n",
    "# Reshape the images if needed\n",
    "image1 = np.reshape(image1, (8, 8))  # Replace height and width with the actual dimensions of your image\n",
    "image2 = np.reshape(image2, (8, 8))  # Replace height and width with the actual dimensions of your image\n",
    "\n",
    "# Plot the two images\n",
    "fig, ax = plt.subplots(1, 2, figsize=(10, 10))\n",
    "\n",
    "ax[0].imshow(image1, cmap='gray_r')\n",
    "#ax[0].set_xlabel(\"Label: {}\".format(y_train.iloc[1]))\n",
    "ax[0].set_xticks([])\n",
    "ax[0].set_yticks([])\n",
    "\n",
    "ax[1].imshow(image2, cmap='gray_r')\n",
    "#ax[1].set_xlabel(\"Label: {}\".format(y_train.iloc[2]))\n",
    "ax[1].set_xticks([])\n",
    "ax[1].set_yticks([])\n",
    "\n",
    "plt.tight_layout()\n",
    "plt.show()"
   ]
  }
 ],
 "metadata": {
  "accelerator": "TPU",
  "colab": {
   "authorship_tag": "ABX9TyP60HcwpCWnpIjMElrEaOie",
   "collapsed_sections": [
    "dK2JBCmDs60y",
    "w0CcPhiFX_3o",
    "S-8fk128YaUg"
   ],
   "mount_file_id": "1Y1OaAoyAYYqeCwgqRWgs4xENllnLao66",
   "provenance": []
  },
  "kernelspec": {
   "display_name": "venv310",
   "language": "python",
   "name": "python3"
  },
  "language_info": {
   "codemirror_mode": {
    "name": "ipython",
    "version": 3
   },
   "file_extension": ".py",
   "mimetype": "text/x-python",
   "name": "python",
   "nbconvert_exporter": "python",
   "pygments_lexer": "ipython3",
   "version": "3.10.0"
  }
 },
 "nbformat": 4,
 "nbformat_minor": 0
}
