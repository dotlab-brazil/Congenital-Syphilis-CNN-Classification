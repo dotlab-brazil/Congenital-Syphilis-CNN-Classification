{
 "cells": [
  {
   "cell_type": "markdown",
   "metadata": {
    "id": "dK2JBCmDs60y"
   },
   "source": [
    "# **Imports and Mount Drive**"
   ]
  },
  {
   "cell_type": "code",
   "execution_count": 21,
   "metadata": {
    "executionInfo": {
     "elapsed": 1968,
     "status": "ok",
     "timestamp": 1688581772390,
     "user": {
      "displayName": "Leonides Neto",
      "userId": "11156147817316568610"
     },
     "user_tz": 180
    },
    "id": "uW25tV0hrvVt"
   },
   "outputs": [],
   "source": [
    "import pandas as pd\n",
    "import numpy as np\n",
    "import os\n",
    "import cv2\n",
    "import matplotlib.pyplot as plt\n",
    "from sklearn.model_selection import train_test_split\n",
    "from google.colab.patches import cv2_imshow\n",
    "from google.colab import drive"
   ]
  },
  {
   "cell_type": "code",
   "execution_count": 23,
   "metadata": {
    "executionInfo": {
     "elapsed": 5,
     "status": "ok",
     "timestamp": 1688581772391,
     "user": {
      "displayName": "Leonides Neto",
      "userId": "11156147817316568610"
     },
     "user_tz": 180
    },
    "id": "JObwYNlV_Opf"
   },
   "outputs": [],
   "source": [
    "#!git clone 'https://github.com/zhuyitan/IGTD'"
   ]
  },
  {
   "cell_type": "markdown",
   "metadata": {
    "id": "0UbKCTuvtQkb"
   },
   "source": [
    "# **Prep IGTD**\n"
   ]
  },
  {
   "cell_type": "code",
   "execution_count": null,
   "metadata": {
    "id": "bnhvuT8V5Ivf"
   },
   "outputs": [],
   "source": [
    "###############################################################################################################################\n",
    "# Image Generator for Tabular Adata (IGTD)\n",
    "###############################################################################################################################\n",
    "\n",
    "# Clone git repository and browse there\n",
    "#\n",
    "#!git clone 'https://github.com/zhuyitan/IGTD'\n",
    "\n",
    "#!cd IGTD/\n",
    "\n",
    "import Scripts.IGTD_Functions as igtd\n",
    "\n",
    "def run_igtd(dataset, rows, cols, result_dir):\n",
    "\n",
    "    # Set parameters\n",
    "\n",
    "    norm_data = igtd.min_max_transform(dataset.values)\n",
    "    norm_data = pd.DataFrame(norm_data, columns=dataset.columns, index=dataset.index)\n",
    "\n",
    "    num_row = rows    # Number of pixel rows in image representation\n",
    "    num_col = cols    # Number of pixel columns in image representation\n",
    "    num = num_row * num_col # Number of features to be included for analysis, which is also the total number of pixels in image representation\n",
    "    save_image_size = 10 # Size of pictures (in inches) saved during the execution of IGTD algorithm.\n",
    "    max_step = 1000    # The maximum number of iterations to run the IGTD algorithm, if it does not converge.\n",
    "    val_step = 100  # The number of iterations for determining algorithm convergence. If the error reduction rate is smaller than a pre-set threshold for val_step itertions, the algorithm converges.\n",
    "    fea_dist_method = 'Euclidean'\n",
    "    image_dist_method = 'Euclidean'\n",
    "    error = 'squared'\n",
    "    switch_t=0 # the threshold to determine whether switch should happen\n",
    "    min_gain=0.00001 # if the objective function is not improved more than 'min_gain' in 'val_step' steps, the algorithm terminates.\n",
    "\n",
    "    os.makedirs(name=result_dir, exist_ok=True)\n",
    "\n",
    "    # Transform\n",
    "\n",
    "    igtd.table_to_image(norm_data, [num_row, num_col], fea_dist_method, image_dist_method, save_image_size,\n",
    "                  max_step, val_step, result_dir, error, switch_t, min_gain)\n",
    "\n",
    "    # Deleting the txts\n",
    "\n",
    "    # Se for salvar na pasta compartilhada: dataset_dengue_chika/data/\n",
    "    #dataset_dir = \"dataset_dengue_chika/data\"\n",
    "    #dir_name = \"/content/gdrive/MyDrive/Mestrado/Results/dataset_dengue_chika/data/\"\n",
    "\n",
    "    return None"
   ]
  },
  {
   "cell_type": "markdown",
   "metadata": {
    "id": "alcQQlgXz4qS"
   },
   "source": [
    "# **Congenital Syphilis**\n"
   ]
  },
  {
   "cell_type": "code",
   "execution_count": null,
   "metadata": {
    "id": "f7qKAjnpz_Ap"
   },
   "outputs": [],
   "source": [
    "X_train = pd.read_csv('Tabular data sets/Syphilis/X_train.csv', sep=';')\n",
    "X_test = pd.read_csv('Tabular data sets/Syphilis/X_test.csv', sep=';')"
   ]
  },
  {
   "cell_type": "code",
   "execution_count": null,
   "metadata": {
    "id": "As-A7rBFpUOe"
   },
   "outputs": [],
   "source": [
    "X_train[0] = 0\n",
    "X_train[1] = 0\n",
    "X_train[2] = 0\n",
    "\n",
    "X_test[0] = 0\n",
    "X_test[1] = 0\n",
    "X_test[2] = 0"
   ]
  },
  {
   "cell_type": "code",
   "execution_count": null,
   "metadata": {
    "colab": {
     "base_uri": "https://localhost:8080/"
    },
    "executionInfo": {
     "elapsed": 2,
     "status": "ok",
     "timestamp": 1667313907909,
     "user": {
      "displayName": "Leonides Neto",
      "userId": "11156147817316568610"
     },
     "user_tz": 180
    },
    "id": "-N1nBv3JpnBu",
    "outputId": "c361f5c9-48fa-41b1-847d-16a1087e8482"
   },
   "outputs": [
    {
     "data": {
      "text/plain": [
       "(1321, 64)"
      ]
     },
     "execution_count": 14,
     "metadata": {},
     "output_type": "execute_result"
    }
   ],
   "source": [
    "X_train.shape"
   ]
  },
  {
   "cell_type": "code",
   "execution_count": null,
   "metadata": {
    "id": "SG7pRemP0XXQ"
   },
   "outputs": [],
   "source": [
    "# Run IGTD on Train set\n",
    "\n",
    "result_dir = \"/IGTD/Datasets/Syphilis/Train\"\n",
    "run_igtd(dataset = X_train, rows = 8, cols = 8, result_dir = result_dir)"
   ]
  },
  {
   "cell_type": "code",
   "execution_count": null,
   "metadata": {
    "id": "5_3vbQGY0YiJ"
   },
   "outputs": [],
   "source": [
    "# Run IGTD on Test set\n",
    "\n",
    "result_dir = \"/IGTD/Datasets/Syphilis/Test\"\n",
    "run_igtd(dataset = X_test, rows = 8, cols = 8, result_dir = result_dir)"
   ]
  },
  {
   "cell_type": "markdown",
   "metadata": {
    "id": "etSzOWF4Rprn"
   },
   "source": [
    "# **Visualize**"
   ]
  },
  {
   "cell_type": "code",
   "execution_count": 24,
   "metadata": {
    "executionInfo": {
     "elapsed": 579,
     "status": "ok",
     "timestamp": 1688581778397,
     "user": {
      "displayName": "Leonides Neto",
      "userId": "11156147817316568610"
     },
     "user_tz": 180
    },
    "id": "Jh-ulPUgUNp5"
   },
   "outputs": [],
   "source": [
    "dir = 'Tabular data sets/Syphilis/y_train.csv'\n",
    "y_train = pd.read_csv(dir, sep=';')"
   ]
  },
  {
   "cell_type": "code",
   "execution_count": 26,
   "metadata": {
    "colab": {
     "base_uri": "https://localhost:8080/",
     "height": 514
    },
    "executionInfo": {
     "elapsed": 790,
     "status": "ok",
     "timestamp": 1688581796210,
     "user": {
      "displayName": "Leonides Neto",
      "userId": "11156147817316568610"
     },
     "user_tz": 180
    },
    "id": "aC7pFTw8OV5m",
    "outputId": "6d3660f5-bc7f-4c6b-92d6-412f8685c967"
   },
   "outputs": [
    {
     "data": {
      "image/png": "[encoded data removed]",
      "text/plain": [
       "<Figure size 1000x1000 with 2 Axes>"
      ]
     },
     "metadata": {},
     "output_type": "display_data"
    }
   ],
   "source": [
    "import pickle\n",
    "import matplotlib.pyplot as plt\n",
    "import numpy as np\n",
    "dir = '/IGTD/Datasets/Syphilis/Train/Results.pkl'\n",
    "\n",
    "data = []\n",
    "\n",
    "with open(dir, \"rb\") as file:\n",
    "  for i in range(0, 3):\n",
    "    data.append(pickle.load(file))\n",
    "\n",
    "data = np.moveaxis(data[1], 2, 0)\n",
    "data = np.expand_dims(X_train, 3)\n",
    "\n",
    "# Extract the two images you want to plot\n",
    "image1 = data[0]\n",
    "image2 = data[1]\n",
    "\n",
    "# Reshape the images if needed\n",
    "image1 = np.reshape(image1, (8, 8))  # Replace height and width with the actual dimensions of your image\n",
    "image2 = np.reshape(image2, (8, 8))  # Replace height and width with the actual dimensions of your image\n",
    "\n",
    "# Plot the two images\n",
    "fig, ax = plt.subplots(1, 2, figsize=(10, 10))\n",
    "\n",
    "ax[0].imshow(image1, cmap='gray_r')\n",
    "#ax[0].set_xlabel(\"Label: {}\".format(y_train.iloc[1]))\n",
    "ax[0].set_xticks([])\n",
    "ax[0].set_yticks([])\n",
    "\n",
    "ax[1].imshow(image2, cmap='gray_r')\n",
    "#ax[1].set_xlabel(\"Label: {}\".format(y_train.iloc[2]))\n",
    "ax[1].set_xticks([])\n",
    "ax[1].set_yticks([])\n",
    "\n",
    "plt.tight_layout()\n",
    "plt.show()"
   ]
  }
 ],
 "metadata": {
  "accelerator": "TPU",
  "colab": {
   "authorship_tag": "ABX9TyP60HcwpCWnpIjMElrEaOie",
   "collapsed_sections": [
    "dK2JBCmDs60y",
    "w0CcPhiFX_3o",
    "S-8fk128YaUg"
   ],
   "mount_file_id": "1Y1OaAoyAYYqeCwgqRWgs4xENllnLao66",
   "provenance": []
  },
  "kernelspec": {
   "display_name": "Python 3",
   "name": "python3"
  },
  "language_info": {
   "name": "python"
  }
 },
 "nbformat": 4,
 "nbformat_minor": 0
}
