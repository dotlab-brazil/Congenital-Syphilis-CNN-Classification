{
 "cells": [
  {
   "cell_type": "markdown",
   "metadata": {
    "id": "dK2JBCmDs60y"
   },
   "source": [
    "# **Imports**"
   ]
  },
  {
   "cell_type": "code",
   "execution_count": null,
   "metadata": {},
   "outputs": [],
   "source": [
    "# If using google colab\n",
    "# Run the following codes\n",
    "\n",
    "# Mount google drive\n",
    "#from google.colab import drive\n",
    "#drive.mount('/content/drive')\n",
    "#!pip install -r \"/content/drive/MyDrive/~/requirements.txt\" # Replace with the path to your requirements.txt file\n",
    "#from google.colab.patches import cv2_imshow \n",
    "#from google.colab import drive"
   ]
  },
  {
   "cell_type": "code",
   "execution_count": null,
   "metadata": {},
   "outputs": [],
   "source": [
    "# Clone REFINED  repo\n",
    "#!git clone https://github.com/omidbazgirTTU/REFINED"
   ]
  },
  {
   "cell_type": "code",
   "execution_count": null,
   "metadata": {
    "id": "uW25tV0hrvVt"
   },
   "outputs": [],
   "source": [
    "import pandas as pd\n",
    "import numpy as np\n",
    "import os\n",
    "import seaborn as sns\n",
    "import pickle\n",
    "import matplotlib.pyplot as plt\n",
    "import sklearn.metrics\n",
    "import tensorflow as tf\n",
    "\n",
    "from sklearn.metrics import accuracy_score, recall_score, precision_score, f1_score, confusion_matrix\n",
    "from google.colab.patches import cv2_imshow\n",
    "from google.colab import drive\n",
    "from collections import Counter\n",
    "from keras.models import Sequential\n",
    "from keras.layers import Dense, Dropout, Activation, Flatten, BatchNormalization, Conv2D, MaxPooling2D, UpSampling2D, Input\n",
    "from keras import optimizers\n",
    "from sklearn.model_selection import train_test_split\n",
    "from sklearn import metrics\n",
    "from sklearn.metrics import confusion_matrix\n",
    "from sklearn.preprocessing import OneHotEncoder"
   ]
  },
  {
   "cell_type": "markdown",
   "metadata": {
    "id": "QSTUm74eefqj"
   },
   "source": [
    "# **Helper functions**"
   ]
  },
  {
   "cell_type": "code",
   "execution_count": null,
   "metadata": {
    "id": "DPm3YMBLkFF6"
   },
   "outputs": [],
   "source": [
    "def onehot(y):\n",
    "\n",
    "  y_onehot = []\n",
    "\n",
    "  for i in y.to_numpy():\n",
    "    if i == 1: y_onehot.append([0, 1])\n",
    "    else: y_onehot.append([1, 0])\n",
    "\n",
    "  y_onehot = np.array(y_onehot)\n",
    "\n",
    "  return y_onehot\n",
    "  \n",
    "def myconfusion_matrix(y_true, y_pred):\n",
    "  tp, tn, fp, fn = 0, 0, 0, 0\n",
    "\n",
    "  for i in range(0, len(y_true)):\n",
    "    if y_pred[i] == y_true[i]:\n",
    "      if y_pred[i] == 0:\n",
    "        tn = tn + 1\n",
    "      else:\n",
    "        tp = tp + 1\n",
    "    else:\n",
    "      if y_pred[i] == 0:\n",
    "        fn = fn + 1\n",
    "      else:\n",
    "        fp = fp + 1\n",
    "\n",
    "  return tp, tn, fp, fn\n",
    "\n",
    "#Calculates the metrics: accuracy, recall, precision, f1_score, and specificity\n",
    "def myaccuracy(y_true, y_pred):\n",
    "    tp, tn, fp, fn = myconfusion_matrix(y_true, y_pred)\n",
    "    if (tp + tn + fp + fn) == 0: return 0\n",
    "    return (tp + tn) / (tp + tn + fp + fn)\n",
    "\n",
    "def myrecall(y_true, y_pred):\n",
    "    tp, tn, fp, fn = myconfusion_matrix(y_true, y_pred)\n",
    "    if (tp + fn) == 0: return 0\n",
    "    return tp / (tp + fn)\n",
    "\n",
    "def myprecision(y_true, y_pred):\n",
    "    tp, tn, fp, fn = myconfusion_matrix(y_true, y_pred)\n",
    "    if (tp + fp) == 0: return 0\n",
    "    return tp / (tp + fp)\n",
    "\n",
    "def myf1_score(y_true, y_pred):\n",
    "    tp, tn, fp, fn = myconfusion_matrix(y_true, y_pred)\n",
    "    denom = (myprecision(y_true, y_pred) + myrecall(y_true, y_pred))\n",
    "    if denom == 0: return 0\n",
    "    return 2 * (myprecision(y_true, y_pred) * myrecall(y_true, y_pred)) / denom\n",
    "\n",
    "def myspecificity(y_true, y_pred):\n",
    "    tp, tn, fp, fn = myconfusion_matrix(y_true, y_pred)\n",
    "    if (tn + fp) == 0: return 0\n",
    "    return tn / (tn + fp)"
   ]
  },
  {
   "cell_type": "markdown",
   "metadata": {
    "id": "jNMvg2n3KChe"
   },
   "source": [
    "# **Congential Syphilis**"
   ]
  },
  {
   "cell_type": "markdown",
   "metadata": {
    "id": "O_jpS-alKChe"
   },
   "source": [
    "## Import data set"
   ]
  },
  {
   "cell_type": "code",
   "execution_count": null,
   "metadata": {
    "colab": {
     "base_uri": "https://localhost:8080/"
    },
    "executionInfo": {
     "elapsed": 3322,
     "status": "ok",
     "timestamp": 1687538875666,
     "user": {
      "displayName": "Leonides Neto",
      "userId": "11156147817316568610"
     },
     "user_tz": 180
    },
    "id": "kI4G6XMB1pfw",
    "outputId": "135d0f1b-1f5e-4fd0-bfda-8a196e008900"
   },
   "outputs": [
    {
     "name": "stderr",
     "output_type": "stream",
     "text": [
      "/usr/local/lib/python3.10/dist-packages/sklearn/preprocessing/_encoders.py:868: FutureWarning: `sparse` was renamed to `sparse_output` in version 1.2 and will be removed in 1.4. `sparse_output` is ignored unless you leave `sparse` to its default value.\n",
      "  warnings.warn(\n"
     ]
    }
   ],
   "source": [
    "with open('/datasets/images/X_train.pickle', 'rb') as file:\n",
    "  X_train = pickle.load(file)\n",
    "\n",
    "with open('/datasets/images/X_test.pickle', 'rb') as file:\n",
    "  X_test = pickle.load(file)\n",
    "\n",
    "y_train = pd.read_csv('/datasets/images/tabular/y_train.csv', sep=';')\n",
    "y_test = pd.read_csv('/datasets/images/tabular/y_test.csv', sep=';')\n",
    "\n",
    "enc = sklearn.preprocessing.OneHotEncoder(categories='auto', sparse=False)\n",
    "\n",
    "y_train = enc.fit_transform(y_train)\n",
    "y_test = enc.transform(y_test)"
   ]
  },
  {
   "cell_type": "code",
   "execution_count": null,
   "metadata": {
    "id": "kJ9qA8Py1pfw"
   },
   "outputs": [],
   "source": [
    "X_train = np.expand_dims(X_train, axis=2)\n",
    "X_test = np.expand_dims(X_test, axis=2)\n",
    "\n",
    "X_train = np.reshape(X_train, (X_train.shape[0], 8, 8, 1))\n",
    "X_test = np.reshape(X_test, (X_test.shape[0], 8, 8, 1))"
   ]
  },
  {
   "cell_type": "code",
   "execution_count": null,
   "metadata": {
    "colab": {
     "base_uri": "https://localhost:8080/",
     "height": 447
    },
    "executionInfo": {
     "elapsed": 1380,
     "status": "ok",
     "timestamp": 1687538877039,
     "user": {
      "displayName": "Leonides Neto",
      "userId": "11156147817316568610"
     },
     "user_tz": 180
    },
    "id": "PioGojkH1pfx",
    "outputId": "f78ffd70-f829-434e-fb95-bfc3ae01662a"
   },
   "outputs": [
    {
     "data": {
      "text/plain": [
       "<matplotlib.image.AxesImage at 0x7f4b8c697070>"
      ]
     },
     "execution_count": 6,
     "metadata": {},
     "output_type": "execute_result"
    },
    {
     "data": {
      "image/png": "[encoded data removed]",
      "text/plain": [
       "<Figure size 640x480 with 1 Axes>"
      ]
     },
     "metadata": {},
     "output_type": "display_data"
    }
   ],
   "source": [
    "plt.imshow(np.reshape(X_train[0], (8, 8)))"
   ]
  },
  {
   "cell_type": "code",
   "execution_count": null,
   "metadata": {
    "colab": {
     "base_uri": "https://localhost:8080/",
     "height": 112
    },
    "executionInfo": {
     "elapsed": 10,
     "status": "ok",
     "timestamp": 1687538877042,
     "user": {
      "displayName": "Leonides Neto",
      "userId": "11156147817316568610"
     },
     "user_tz": 180
    },
    "id": "23Ns9AThKChe",
    "outputId": "e272d3a9-b59c-4218-fc23-5b1588d04654"
   },
   "outputs": [
    {
     "data": {
      "text/html": [
       "\n",
       "  <div id=\"df-5a7f0749-71f2-4438-9942-efa95dd2b8bd\">\n",
       "    <div class=\"colab-df-container\">\n",
       "      <div>\n",
       "<style scoped>\n",
       "    .dataframe tbody tr th:only-of-type {\n",
       "        vertical-align: middle;\n",
       "    }\n",
       "\n",
       "    .dataframe tbody tr th {\n",
       "        vertical-align: top;\n",
       "    }\n",
       "\n",
       "    .dataframe thead th {\n",
       "        text-align: right;\n",
       "    }\n",
       "</style>\n",
       "<table border=\"1\" class=\"dataframe\">\n",
       "  <thead>\n",
       "    <tr style=\"text-align: right;\">\n",
       "      <th></th>\n",
       "      <th>Train</th>\n",
       "      <th>Test</th>\n",
       "    </tr>\n",
       "  </thead>\n",
       "  <tbody>\n",
       "    <tr>\n",
       "      <th>x</th>\n",
       "      <td>(1321, 8, 8, 1)</td>\n",
       "      <td>(331, 8, 8, 1)</td>\n",
       "    </tr>\n",
       "    <tr>\n",
       "      <th>y</th>\n",
       "      <td>(1321, 2)</td>\n",
       "      <td>(331, 2)</td>\n",
       "    </tr>\n",
       "  </tbody>\n",
       "</table>\n",
       "</div>\n",
       "      <button class=\"colab-df-convert\" onclick=\"convertToInteractive('df-5a7f0749-71f2-4438-9942-efa95dd2b8bd')\"\n",
       "              title=\"Convert this dataframe to an interactive table.\"\n",
       "              style=\"display:none;\">\n",
       "        \n",
       "  <svg xmlns=\"http://www.w3.org/2000/svg\" height=\"24px\"viewBox=\"0 0 24 24\"\n",
       "       width=\"24px\">\n",
       "    <path d=\"M0 0h24v24H0V0z\" fill=\"none\"/>\n",
       "    <path d=\"M18.56 5.44l.94 2.06.94-2.06 2.06-.94-2.06-.94-.94-2.06-.94 2.06-2.06.94zm-11 1L8.5 8.5l.94-2.06 2.06-.94-2.06-.94L8.5 2.5l-.94 2.06-2.06.94zm10 10l.94 2.06.94-2.06 2.06-.94-2.06-.94-.94-2.06-.94 2.06-2.06.94z\"/><path d=\"M17.41 7.96l-1.37-1.37c-.4-.4-.92-.59-1.43-.59-.52 0-1.04.2-1.43.59L10.3 9.45l-7.72 7.72c-.78.78-.78 2.05 0 2.83L4 21.41c.39.39.9.59 1.41.59.51 0 1.02-.2 1.41-.59l7.78-7.78 2.81-2.81c.8-.78.8-2.07 0-2.86zM5.41 20L4 18.59l7.72-7.72 1.47 1.35L5.41 20z\"/>\n",
       "  </svg>\n",
       "      </button>\n",
       "      \n",
       "  <style>\n",
       "    .colab-df-container {\n",
       "      display:flex;\n",
       "      flex-wrap:wrap;\n",
       "      gap: 12px;\n",
       "    }\n",
       "\n",
       "    .colab-df-convert {\n",
       "      background-color: #E8F0FE;\n",
       "      border: none;\n",
       "      border-radius: 50%;\n",
       "      cursor: pointer;\n",
       "      display: none;\n",
       "      fill: #1967D2;\n",
       "      height: 32px;\n",
       "      padding: 0 0 0 0;\n",
       "      width: 32px;\n",
       "    }\n",
       "\n",
       "    .colab-df-convert:hover {\n",
       "      background-color: #E2EBFA;\n",
       "      box-shadow: 0px 1px 2px rgba(60, 64, 67, 0.3), 0px 1px 3px 1px rgba(60, 64, 67, 0.15);\n",
       "      fill: #174EA6;\n",
       "    }\n",
       "\n",
       "    [theme=dark] .colab-df-convert {\n",
       "      background-color: #3B4455;\n",
       "      fill: #D2E3FC;\n",
       "    }\n",
       "\n",
       "    [theme=dark] .colab-df-convert:hover {\n",
       "      background-color: #434B5C;\n",
       "      box-shadow: 0px 1px 3px 1px rgba(0, 0, 0, 0.15);\n",
       "      filter: drop-shadow(0px 1px 2px rgba(0, 0, 0, 0.3));\n",
       "      fill: #FFFFFF;\n",
       "    }\n",
       "  </style>\n",
       "\n",
       "      <script>\n",
       "        const buttonEl =\n",
       "          document.querySelector('#df-5a7f0749-71f2-4438-9942-efa95dd2b8bd button.colab-df-convert');\n",
       "        buttonEl.style.display =\n",
       "          google.colab.kernel.accessAllowed ? 'block' : 'none';\n",
       "\n",
       "        async function convertToInteractive(key) {\n",
       "          const element = document.querySelector('#df-5a7f0749-71f2-4438-9942-efa95dd2b8bd');\n",
       "          const dataTable =\n",
       "            await google.colab.kernel.invokeFunction('convertToInteractive',\n",
       "                                                     [key], {});\n",
       "          if (!dataTable) return;\n",
       "\n",
       "          const docLinkHtml = 'Like what you see? Visit the ' +\n",
       "            '<a target=\"_blank\" href=https://colab.research.google.com/notebooks/data_table.ipynb>data table notebook</a>'\n",
       "            + ' to learn more about interactive tables.';\n",
       "          element.innerHTML = '';\n",
       "          dataTable['output_type'] = 'display_data';\n",
       "          await google.colab.output.renderOutput(dataTable, element);\n",
       "          const docLink = document.createElement('div');\n",
       "          docLink.innerHTML = docLinkHtml;\n",
       "          element.appendChild(docLink);\n",
       "        }\n",
       "      </script>\n",
       "    </div>\n",
       "  </div>\n",
       "  "
      ],
      "text/plain": [
       "             Train            Test\n",
       "x  (1321, 8, 8, 1)  (331, 8, 8, 1)\n",
       "y        (1321, 2)        (331, 2)"
      ]
     },
     "execution_count": 7,
     "metadata": {},
     "output_type": "execute_result"
    }
   ],
   "source": [
    "shapes = pd.DataFrame(\n",
    "    {\n",
    "\n",
    "      \"Train\": [X_train.shape, y_train.shape],\n",
    "      \"Test\": [X_test.shape, y_test.shape],\n",
    "    }, index=['x', 'y']\n",
    ")\n",
    "\n",
    "shapes"
   ]
  },
  {
   "cell_type": "code",
   "execution_count": null,
   "metadata": {
    "colab": {
     "base_uri": "https://localhost:8080/"
    },
    "executionInfo": {
     "elapsed": 8,
     "status": "ok",
     "timestamp": 1687538877043,
     "user": {
      "displayName": "Leonides Neto",
      "userId": "11156147817316568610"
     },
     "user_tz": 180
    },
    "id": "dKKm65T7KChf",
    "outputId": "fe37bf98-abfe-462b-cb00-6c716ba8d339"
   },
   "outputs": [
    {
     "name": "stdout",
     "output_type": "stream",
     "text": [
      "Counter({1: 661, 0: 660})\n",
      "Counter({0: 166, 1: 165})\n"
     ]
    }
   ],
   "source": [
    "print(Counter(np.argmax(y_train, axis=1)))\n",
    "print(Counter(np.argmax(y_test, axis=1)))"
   ]
  },
  {
   "cell_type": "markdown",
   "metadata": {
    "id": "RIVeBNCPKChf"
   },
   "source": [
    "## Basic CNN - Congenital Syphilis\n"
   ]
  },
  {
   "cell_type": "code",
   "execution_count": null,
   "metadata": {
    "id": "hGiCEnjRKChf"
   },
   "outputs": [],
   "source": [
    "# Baseline Model model\n",
    "\n",
    "basic_model = Sequential([\n",
    "                    Input(X_train[0].shape),\n",
    "                    Conv2D(32, 3, 1, padding=\"same\", activation=\"relu\", data_format='channels_last'),\n",
    "                    MaxPooling2D(pool_size=2, strides=1, padding=\"same\"),\n",
    "                    Flatten(),\n",
    "                    Dense(2, activation=\"sigmoid\")\n",
    "                    ])\n",
    "\n",
    "basic_model.compile(\n",
    "    optimizer=\"Adam\",\n",
    "    loss=\"binary_crossentropy\",\n",
    "    metrics=[\"binary_accuracy\"]\n",
    ")"
   ]
  },
  {
   "cell_type": "code",
   "execution_count": null,
   "metadata": {
    "id": "JuoKpcixKChf"
   },
   "outputs": [],
   "source": [
    "# Fit baseline model\n",
    "\n",
    "basic_history = basic_model.fit(\n",
    "                      X_train,\n",
    "                      y_train,\n",
    "                      batch_size=256,\n",
    "                      epochs=200,\n",
    "                      shuffle=True,\n",
    "                      validation_split=0.1,\n",
    "                      verbose=0,\n",
    "                  )"
   ]
  },
  {
   "cell_type": "code",
   "execution_count": null,
   "metadata": {
    "colab": {
     "base_uri": "https://localhost:8080/",
     "height": 472
    },
    "executionInfo": {
     "elapsed": 16,
     "status": "ok",
     "timestamp": 1687287936787,
     "user": {
      "displayName": "Leonides Neto",
      "userId": "11156147817316568610"
     },
     "user_tz": 180
    },
    "id": "tMK3F5eVKChf",
    "outputId": "72dabfaf-524e-4112-ba64-b5bfe5b40741"
   },
   "outputs": [
    {
     "data": {
      "text/plain": [
       "<matplotlib.legend.Legend at 0x7f7a1c1e3160>"
      ]
     },
     "execution_count": 11,
     "metadata": {},
     "output_type": "execute_result"
    },
    {
     "data": {
      "image/png": "[encoded data removed]",
      "text/plain": [
       "<Figure size 640x480 with 1 Axes>"
      ]
     },
     "metadata": {},
     "output_type": "display_data"
    }
   ],
   "source": [
    "# Plot graph\n",
    "#plt.plot(basic_history.history['loss'], label='Train loss')\n",
    "#plt.plot(basic_history.history['binary_accuracy'], label='Train acc')\n",
    "plt.plot(basic_history.history['val_loss'], label = 'Val loss')\n",
    "plt.plot(basic_history.history['val_binary_accuracy'], label='Val acc')\n",
    "plt.xlabel('Epoch')\n",
    "plt.ylabel('Loss')\n",
    "plt.ylim([0, 1])\n",
    "plt.legend(loc='lower right')"
   ]
  },
  {
   "cell_type": "code",
   "execution_count": null,
   "metadata": {
    "colab": {
     "base_uri": "https://localhost:8080/"
    },
    "executionInfo": {
     "elapsed": 7,
     "status": "ok",
     "timestamp": 1687287936788,
     "user": {
      "displayName": "Leonides Neto",
      "userId": "11156147817316568610"
     },
     "user_tz": 180
    },
    "id": "l6QlYNEUKChf",
    "outputId": "65b89c16-74b0-4d46-cd90-c1020dcfc567"
   },
   "outputs": [
    {
     "name": "stdout",
     "output_type": "stream",
     "text": [
      "\n",
      "Best epoch: 120\n"
     ]
    }
   ],
   "source": [
    "### GET BEST EPOCHS ###\n",
    "\n",
    "val_acc_per_epoch = basic_history.history['val_binary_accuracy']\n",
    "best_epoch = val_acc_per_epoch.index(max(val_acc_per_epoch)) + 1\n",
    "print('\\nBest epoch: %d' % (best_epoch))"
   ]
  },
  {
   "cell_type": "code",
   "execution_count": null,
   "metadata": {
    "colab": {
     "base_uri": "https://localhost:8080/"
    },
    "executionInfo": {
     "elapsed": 1017,
     "status": "ok",
     "timestamp": 1687538894411,
     "user": {
      "displayName": "Leonides Neto",
      "userId": "11156147817316568610"
     },
     "user_tz": 180
    },
    "id": "nfNdQH98AOds",
    "outputId": "f071c7f2-950b-40c0-bf20-dfb5f553e487"
   },
   "outputs": [
    {
     "name": "stdout",
     "output_type": "stream",
     "text": [
      "Model: \"sequential\"\n",
      "_________________________________________________________________\n",
      " Layer (type)                Output Shape              Param #   \n",
      "=================================================================\n",
      " conv2d (Conv2D)             (None, 8, 8, 32)          320       \n",
      "                                                                 \n",
      " max_pooling2d (MaxPooling2D  (None, 8, 8, 32)         0         \n",
      " )                                                               \n",
      "                                                                 \n",
      " flatten (Flatten)           (None, 2048)              0         \n",
      "                                                                 \n",
      " dense (Dense)               (None, 2)                 4098      \n",
      "                                                                 \n",
      "=================================================================\n",
      "Total params: 4,418\n",
      "Trainable params: 4,418\n",
      "Non-trainable params: 0\n",
      "_________________________________________________________________\n"
     ]
    }
   ],
   "source": [
    "# Redefining specificity beacause 1=negative, 0=positive\n",
    "def myspecificity(y_true, y_pred):\n",
    "    tp, tn, fp, fn = myconfusion_matrix(y_true, y_pred)\n",
    "    if (tn + fp) == 0: return 0\n",
    "    return tp / (tp + fn)\n",
    "\n",
    "# Loading the model\n",
    "dir = 'models/REFINED_basic_cong_syphilis.pkl'\n",
    "\n",
    "with open(dir, 'rb') as file:\n",
    "  basic_model = pickle.load(file)\n",
    "\n",
    "basic_model.summary()\n",
    "\n",
    "best_epoch = 120"
   ]
  },
  {
   "cell_type": "code",
   "execution_count": null,
   "metadata": {
    "colab": {
     "base_uri": "https://localhost:8080/"
    },
    "executionInfo": {
     "elapsed": 1031122,
     "status": "ok",
     "timestamp": 1687539954250,
     "user": {
      "displayName": "Leonides Neto",
      "userId": "11156147817316568610"
     },
     "user_tz": 180
    },
    "id": "Zhnc0w1YJqbC",
    "outputId": "f769aa48-e544-42a2-8105-6cd8a2e3ed50"
   },
   "outputs": [
    {
     "name": "stdout",
     "output_type": "stream",
     "text": [
      "11/11 [==============================] - 0s 3ms/step\n",
      "11/11 [==============================] - 0s 3ms/step\n",
      "11/11 [==============================] - 0s 2ms/step\n",
      "11/11 [==============================] - 0s 3ms/step\n",
      "11/11 [==============================] - 0s 2ms/step\n",
      "11/11 [==============================] - 0s 3ms/step\n",
      "11/11 [==============================] - 0s 3ms/step\n",
      "11/11 [==============================] - 0s 4ms/step\n",
      "11/11 [==============================] - 0s 3ms/step\n",
      "11/11 [==============================] - 0s 3ms/step\n",
      "11/11 [==============================] - 0s 3ms/step\n",
      "11/11 [==============================] - 0s 2ms/step\n",
      "11/11 [==============================] - 0s 3ms/step\n",
      "11/11 [==============================] - 0s 3ms/step\n",
      "11/11 [==============================] - 0s 2ms/step\n",
      "11/11 [==============================] - 0s 2ms/step\n",
      "11/11 [==============================] - 0s 2ms/step\n",
      "11/11 [==============================] - 0s 3ms/step\n",
      "11/11 [==============================] - 0s 2ms/step\n",
      "11/11 [==============================] - 0s 3ms/step\n",
      "11/11 [==============================] - 0s 3ms/step\n",
      "11/11 [==============================] - 0s 3ms/step\n",
      "11/11 [==============================] - 0s 3ms/step\n",
      "11/11 [==============================] - 0s 2ms/step\n",
      "11/11 [==============================] - 0s 3ms/step\n",
      "11/11 [==============================] - 0s 3ms/step\n",
      "11/11 [==============================] - 0s 3ms/step\n",
      "11/11 [==============================] - 0s 3ms/step\n",
      "11/11 [==============================] - 0s 3ms/step\n",
      "11/11 [==============================] - 0s 4ms/step\n"
     ]
    }
   ],
   "source": [
    "#Gerando o relatorio dos experimentos\n",
    "mydados_relatorio_modelo = []\n",
    "\n",
    "header_dados_relatorio_modelo = ['acc', 'recall', 'precision', 'f1_score', 'specificity']\n",
    "\n",
    "y_true = [np.argmax(x) for x in y_test]\n",
    "\n",
    "for exp in range(0, 30):\n",
    "\n",
    "    basic_model.fit(X_train, y_train, epochs=best_epoch, verbose=0)\n",
    "\n",
    "    y_pred = basic_model.predict(X_test)\n",
    "    y_pred = [np.argmax(x) for x in y_pred]\n",
    "\n",
    "    # Based on my confusion matrix\n",
    "    tp, tn, fp, fn = myconfusion_matrix(y_true, y_pred)\n",
    "\n",
    "    my_accuracy = accuracy_score(y_true, y_pred)\n",
    "    my_recall = recall_score(y_true, y_pred, average='binary', pos_label=0)\n",
    "    my_precision = precision_score(y_true, y_pred, average='binary', pos_label=0)\n",
    "    my_f1_score = f1_score(y_true, y_pred, average='binary', pos_label=0)\n",
    "    my_specificity = myspecificity(y_true, y_pred)\n",
    "\n",
    "    # Metrics\n",
    "\n",
    "    # My confusionmatrix\n",
    "    mydados_relatorio_modelo.append([my_accuracy, my_recall, my_precision, my_f1_score, my_specificity])\n",
    "\n",
    "# Saving metrics in a datframe\n",
    "mydados_relatorio_modelo_df = pd.DataFrame(mydados_relatorio_modelo, columns=header_dados_relatorio_modelo)"
   ]
  },
  {
   "cell_type": "code",
   "execution_count": null,
   "metadata": {
    "id": "3iMwuU1fKChf"
   },
   "outputs": [],
   "source": [
    "final_report = pd.DataFrame(mydados_relatorio_modelo_df.mean(axis=0))"
   ]
  },
  {
   "cell_type": "code",
   "execution_count": null,
   "metadata": {
    "colab": {
     "base_uri": "https://localhost:8080/",
     "height": 206
    },
    "executionInfo": {
     "elapsed": 9,
     "status": "ok",
     "timestamp": 1687539954252,
     "user": {
      "displayName": "Leonides Neto",
      "userId": "11156147817316568610"
     },
     "user_tz": 180
    },
    "id": "wMak4SjQKChg",
    "outputId": "6b3fea2b-cb10-4d4a-8756-48ba74e96e3a"
   },
   "outputs": [
    {
     "data": {
      "text/html": [
       "\n",
       "  <div id=\"df-75709a7c-df8c-4cac-84b9-4b21a8c32901\">\n",
       "    <div class=\"colab-df-container\">\n",
       "      <div>\n",
       "<style scoped>\n",
       "    .dataframe tbody tr th:only-of-type {\n",
       "        vertical-align: middle;\n",
       "    }\n",
       "\n",
       "    .dataframe tbody tr th {\n",
       "        vertical-align: top;\n",
       "    }\n",
       "\n",
       "    .dataframe thead th {\n",
       "        text-align: right;\n",
       "    }\n",
       "</style>\n",
       "<table border=\"1\" class=\"dataframe\">\n",
       "  <thead>\n",
       "    <tr style=\"text-align: right;\">\n",
       "      <th></th>\n",
       "      <th>0</th>\n",
       "    </tr>\n",
       "  </thead>\n",
       "  <tbody>\n",
       "    <tr>\n",
       "      <th>acc</th>\n",
       "      <td>0.448943</td>\n",
       "    </tr>\n",
       "    <tr>\n",
       "      <th>recall</th>\n",
       "      <td>0.656627</td>\n",
       "    </tr>\n",
       "    <tr>\n",
       "      <th>precision</th>\n",
       "      <td>0.464959</td>\n",
       "    </tr>\n",
       "    <tr>\n",
       "      <th>f1_score</th>\n",
       "      <td>0.544361</td>\n",
       "    </tr>\n",
       "    <tr>\n",
       "      <th>specificity</th>\n",
       "      <td>0.240000</td>\n",
       "    </tr>\n",
       "  </tbody>\n",
       "</table>\n",
       "</div>\n",
       "      <button class=\"colab-df-convert\" onclick=\"convertToInteractive('df-75709a7c-df8c-4cac-84b9-4b21a8c32901')\"\n",
       "              title=\"Convert this dataframe to an interactive table.\"\n",
       "              style=\"display:none;\">\n",
       "        \n",
       "  <svg xmlns=\"http://www.w3.org/2000/svg\" height=\"24px\"viewBox=\"0 0 24 24\"\n",
       "       width=\"24px\">\n",
       "    <path d=\"M0 0h24v24H0V0z\" fill=\"none\"/>\n",
       "    <path d=\"M18.56 5.44l.94 2.06.94-2.06 2.06-.94-2.06-.94-.94-2.06-.94 2.06-2.06.94zm-11 1L8.5 8.5l.94-2.06 2.06-.94-2.06-.94L8.5 2.5l-.94 2.06-2.06.94zm10 10l.94 2.06.94-2.06 2.06-.94-2.06-.94-.94-2.06-.94 2.06-2.06.94z\"/><path d=\"M17.41 7.96l-1.37-1.37c-.4-.4-.92-.59-1.43-.59-.52 0-1.04.2-1.43.59L10.3 9.45l-7.72 7.72c-.78.78-.78 2.05 0 2.83L4 21.41c.39.39.9.59 1.41.59.51 0 1.02-.2 1.41-.59l7.78-7.78 2.81-2.81c.8-.78.8-2.07 0-2.86zM5.41 20L4 18.59l7.72-7.72 1.47 1.35L5.41 20z\"/>\n",
       "  </svg>\n",
       "      </button>\n",
       "      \n",
       "  <style>\n",
       "    .colab-df-container {\n",
       "      display:flex;\n",
       "      flex-wrap:wrap;\n",
       "      gap: 12px;\n",
       "    }\n",
       "\n",
       "    .colab-df-convert {\n",
       "      background-color: #E8F0FE;\n",
       "      border: none;\n",
       "      border-radius: 50%;\n",
       "      cursor: pointer;\n",
       "      display: none;\n",
       "      fill: #1967D2;\n",
       "      height: 32px;\n",
       "      padding: 0 0 0 0;\n",
       "      width: 32px;\n",
       "    }\n",
       "\n",
       "    .colab-df-convert:hover {\n",
       "      background-color: #E2EBFA;\n",
       "      box-shadow: 0px 1px 2px rgba(60, 64, 67, 0.3), 0px 1px 3px 1px rgba(60, 64, 67, 0.15);\n",
       "      fill: #174EA6;\n",
       "    }\n",
       "\n",
       "    [theme=dark] .colab-df-convert {\n",
       "      background-color: #3B4455;\n",
       "      fill: #D2E3FC;\n",
       "    }\n",
       "\n",
       "    [theme=dark] .colab-df-convert:hover {\n",
       "      background-color: #434B5C;\n",
       "      box-shadow: 0px 1px 3px 1px rgba(0, 0, 0, 0.15);\n",
       "      filter: drop-shadow(0px 1px 2px rgba(0, 0, 0, 0.3));\n",
       "      fill: #FFFFFF;\n",
       "    }\n",
       "  </style>\n",
       "\n",
       "      <script>\n",
       "        const buttonEl =\n",
       "          document.querySelector('#df-75709a7c-df8c-4cac-84b9-4b21a8c32901 button.colab-df-convert');\n",
       "        buttonEl.style.display =\n",
       "          google.colab.kernel.accessAllowed ? 'block' : 'none';\n",
       "\n",
       "        async function convertToInteractive(key) {\n",
       "          const element = document.querySelector('#df-75709a7c-df8c-4cac-84b9-4b21a8c32901');\n",
       "          const dataTable =\n",
       "            await google.colab.kernel.invokeFunction('convertToInteractive',\n",
       "                                                     [key], {});\n",
       "          if (!dataTable) return;\n",
       "\n",
       "          const docLinkHtml = 'Like what you see? Visit the ' +\n",
       "            '<a target=\"_blank\" href=https://colab.research.google.com/notebooks/data_table.ipynb>data table notebook</a>'\n",
       "            + ' to learn more about interactive tables.';\n",
       "          element.innerHTML = '';\n",
       "          dataTable['output_type'] = 'display_data';\n",
       "          await google.colab.output.renderOutput(dataTable, element);\n",
       "          const docLink = document.createElement('div');\n",
       "          docLink.innerHTML = docLinkHtml;\n",
       "          element.appendChild(docLink);\n",
       "        }\n",
       "      </script>\n",
       "    </div>\n",
       "  </div>\n",
       "  "
      ],
      "text/plain": [
       "                    0\n",
       "acc          0.448943\n",
       "recall       0.656627\n",
       "precision    0.464959\n",
       "f1_score     0.544361\n",
       "specificity  0.240000"
      ]
     },
     "execution_count": 13,
     "metadata": {},
     "output_type": "execute_result"
    }
   ],
   "source": [
    "final_report"
   ]
  },
  {
   "cell_type": "markdown",
   "metadata": {
    "id": "Nd8NrdjzuVdO"
   },
   "source": [
    "## Saving results"
   ]
  },
  {
   "cell_type": "code",
   "execution_count": null,
   "metadata": {
    "id": "9U4NAlaGKChg"
   },
   "outputs": [],
   "source": [
    "# Save results\n",
    "\n",
    "report_dir = '/REFINED_basic_cong_syphilis.csv'\n",
    "final_dir = '/REFINED_basic_cong_syphilis_mean.csv'\n",
    "\n",
    "mydados_relatorio_modelo_df.to_csv(report_dir, sep=';')\n",
    "final_report.to_csv(final_dir, sep=';')"
   ]
  },
  {
   "cell_type": "code",
   "execution_count": null,
   "metadata": {
    "id": "e54bGiQvKChg"
   },
   "outputs": [],
   "source": [
    "# Save model\n",
    "\n",
    "dir = '/REFINED_basic_cong_syphilis.pkl'\n",
    "\n",
    "with open(dir, 'wb') as file:\n",
    "  pickle.dump(basic_model, file)"
   ]
  }
 ],
 "metadata": {
  "accelerator": "TPU",
  "colab": {
   "authorship_tag": "ABX9TyNK6ct9YFtvddTQbMteUy2a",
   "collapsed_sections": [
    "dK2JBCmDs60y",
    "M4mqllalVGeb",
    "xDc1dS1EmOvW",
    "4n8tZu8Rfq5R",
    "cHJovM_4f4xm",
    "peoipSpp2yJK"
   ],
   "mount_file_id": "10l6dFtl1hI-y9IOWqxmHyBV3BbkJAu1B",
   "provenance": []
  },
  "kernelspec": {
   "display_name": "Python 3",
   "name": "python3"
  },
  "language_info": {
   "name": "python"
  }
 },
 "nbformat": 4,
 "nbformat_minor": 0
}
